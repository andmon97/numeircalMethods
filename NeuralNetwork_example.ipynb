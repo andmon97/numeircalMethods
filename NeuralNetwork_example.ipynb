{
 "cells": [
  {
   "cell_type": "markdown",
   "metadata": {},
   "source": [
    "# PERCEPTRON\n",
    "Our model describe a linear classifier that divides the coordinate plane into two halves,\n",
    "the line in the example is y=x.\n",
    "We want to learn a parameter vector such that our model make the right prediction.\n",
    "This model is called a linear perceptron.\n",
    "The cost function minimize the distance in the two norm."
   ]
  },
  {
   "cell_type": "code",
   "execution_count": 1,
   "metadata": {},
   "outputs": [],
   "source": [
    "import numpy as np\n",
    "import scipy.optimize\n",
    "import matplotlib.pyplot"
   ]
  },
  {
   "cell_type": "code",
   "execution_count": 2,
   "metadata": {},
   "outputs": [],
   "source": [
    "def activation(t): return (1-np.exp(-t))/(1+np.exp(-t))\n",
    "def neuron(w,b,x):return activation(np.inner(w,x)+b)"
   ]
  },
  {
   "cell_type": "code",
   "execution_count": 3,
   "metadata": {},
   "outputs": [
    {
     "name": "stdout",
     "output_type": "stream",
     "text": [
      "[1, 1.5]\n",
      "[3, 4]\n"
     ]
    }
   ],
   "source": [
    "#Train the neuron with some good data\n",
    "data = np.array([[[1,1.5],+1],\n",
    "       [[3,4],+1],\n",
    "       [[4,3],-1],\n",
    "       [[1.5,1],-1]],dtype=object)\n",
    "print(data[0,0])\n",
    "print(data[1,0])\n",
    "dataset = np.random.randn(100,2) #random distribution of normal distributed points"
   ]
  },
  {
   "cell_type": "code",
   "execution_count": 4,
   "metadata": {},
   "outputs": [],
   "source": [
    "def cost(teta):\n",
    "    w=teta[0:2]\n",
    "    b=teta[2]\n",
    "    c=0\n",
    "    for k in range(len(data)):\n",
    "        c +=(neuron(w,b,data[k,0])-data[k,1])**2#error between the computed output and the real output\n",
    "    return c"
   ]
  },
  {
   "cell_type": "code",
   "execution_count": 5,
   "metadata": {},
   "outputs": [
    {
     "name": "stdout",
     "output_type": "stream",
     "text": [
      "[-14.43839062  14.66289908  -0.07286616]\n",
      "Optimization terminated successfully.\n"
     ]
    }
   ],
   "source": [
    "x0 = np.array([1,1.,1.]);\n",
    "opt = scipy.optimize.minimize(cost,x0);\n",
    "print(opt.x)\n",
    "print(opt.message)"
   ]
  },
  {
   "cell_type": "code",
   "execution_count": 6,
   "metadata": {},
   "outputs": [
    {
     "data": {
      "text/plain": [
       "0.998875601452937"
      ]
     },
     "execution_count": 6,
     "metadata": {},
     "output_type": "execute_result"
    }
   ],
   "source": [
    "def neuronopt(x): return neuron(opt.x[0:2],opt.x[2],x);\n",
    "neuronopt([1,1.5        ])"
   ]
  },
  {
   "cell_type": "code",
   "execution_count": 7,
   "metadata": {},
   "outputs": [],
   "source": [
    "datatest1 = np.array([p for p in dataset if neuronopt(p)>0])\n",
    "datatest2 = np.array([p for p in dataset if neuronopt(p)<=0])\n"
   ]
  },
  {
   "cell_type": "code",
   "execution_count": 8,
   "metadata": {},
   "outputs": [
    {
     "data": {
      "image/png": "[encoded data removed]",
      "text/plain": [
       "<Figure size 432x288 with 1 Axes>"
      ]
     },
     "metadata": {
      "needs_background": "light"
     },
     "output_type": "display_data"
    }
   ],
   "source": [
    "matplotlib.pyplot.plot([-2,2],[-2,2],'r', datatest1[::,0], datatest1[::,1],'ko',  datatest2[::,0], datatest2[::,1],'ro');"
   ]
  },
  {
   "cell_type": "code",
   "execution_count": 9,
   "metadata": {},
   "outputs": [],
   "source": [
    "import numpy as np\n",
    "def steep_desc(theta,alpha,tol,data):\n",
    "    (n,m)=data.shape\n",
    "    (n1) = theta.shape\n",
    "    theta31 = np.copy(theta)\n",
    "    w1 = theta31[0:2]\n",
    "    b1 = theta31[2]\n",
    "    nitmax = 60000\n",
    "    err=1\n",
    "    nit=0#number of iterartion\n",
    "    while err > tol and nit < nitmax:\n",
    "        nit=nit+1\n",
    "        theta30 = np.copy(theta31)\n",
    "        w0 = np.copy(w1)\n",
    "        b0 = np.copy(b1)\n",
    "        w1 = np.copy(w0)\n",
    "        b1 = np.copy(b0)\n",
    "        for k in range(n):\n",
    "            yk = neuron(w0,b0,data[k,0]) \n",
    "            w1 = w1 - alpha*(yk-data[k,1])*np.asarray(data[k,0])*(1-yk**2)/2.0\n",
    "            b1 = b1 - alpha*(yk-data[k,1])*(1-yk**2)/2.0\n",
    "        theta31[0:2] = w1\n",
    "        theta31[2] = b1\n",
    "        err =  np.max(abs(theta31-theta30)/(1+abs(theta30)))\n",
    "      \n",
    "    print('nit',nit,err,w1,b1)\n",
    "    return theta31  "
   ]
  },
  {
   "cell_type": "code",
   "execution_count": 26,
   "metadata": {},
   "outputs": [
    {
     "name": "stdout",
     "output_type": "stream",
     "text": [
      "[-22.64377189  20.02337447  -0.07534804]\n",
      "Optimization terminated successfully.\n",
      "26 1.7659088619527297e-06\n",
      "nit 7818 4.999765977932613e-06 [-10.28126988   9.83386995] 0.8210371427056946\n",
      "[-10.28126988   9.83386995   0.82103714] 0.00038511832564044326\n"
     ]
    }
   ],
   "source": [
    "x0 = np.array([-10.,10.,1.]);\n",
    "opt = scipy.optimize.minimize(cost,x0);\n",
    "print(opt.x)\n",
    "print(opt.message)\n",
    "print(opt.nit,opt.fun)\n",
    "optw = steep_desc(x0,0.05, 5e-6,data)\n",
    "print(optw,cost(optw))"
   ]
  },
  {
   "cell_type": "code",
   "execution_count": 11,
   "metadata": {},
   "outputs": [],
   "source": [
    "def neuronoptw(x): return neuron(optw[0:2],optw[2],x);"
   ]
  },
  {
   "cell_type": "code",
   "execution_count": 12,
   "metadata": {},
   "outputs": [
    {
     "data": {
      "image/png": "[encoded data removed]",
      "text/plain": [
       "<Figure size 432x288 with 1 Axes>"
      ]
     },
     "metadata": {
      "needs_background": "light"
     },
     "output_type": "display_data"
    }
   ],
   "source": [
    "datatest1w = np.array([p for p in dataset if neuronoptw(p)>0])\n",
    "datatest2w = np.array([p for p in dataset if neuronoptw(p)<0])\n",
    "matplotlib.pyplot.plot([-2,2],[-2,2],'r', datatest1w[::,0], datatest1w[::,1],'ko',  datatest2w[::,0], datatest2w[::,1],'ro');"
   ]
  },
  {
   "cell_type": "markdown",
   "metadata": {},
   "source": [
    "Exercise: Implement the backtraking approach for the computation of the step-length at each iteration of the line search method that uses the steepest direction. Compare the results with the method that uses a constant value of the step-length."
   ]
  },
  {
   "cell_type": "code",
   "execution_count": 67,
   "metadata": {},
   "outputs": [],
   "source": [
    "import numpy as np\n",
    "def steep_desc_backtracking(theta,alpha,c,tol,data):\n",
    "    (n,m)=data.shape\n",
    "    (n1) = theta.shape\n",
    "    theta31 = np.copy(theta)\n",
    "    alpha1w = alpha\n",
    "    alpha1b = alpha\n",
    "    w1 = theta31[0:2]\n",
    "    b1 = theta31[2]\n",
    "    nitmax = 60000\n",
    "    err=1\n",
    "    nit=0#number of iterartion\n",
    "    while err > tol and nit < nitmax:\n",
    "        nit=nit+1\n",
    "        theta30 = np.copy(theta31)\n",
    "        w0 = np.copy(w1)\n",
    "        b0 = np.copy(b1)\n",
    "        w1 = np.copy(w0)\n",
    "        b1 = np.copy(b0)\n",
    "        for k in range(n):\n",
    "            yk = neuron(w0,b0,data[k,0]) \n",
    "            w1 = w1 - c*alpha1w*(yk-data[k,1])*np.asarray(data[k,0])*(1-yk**2)/2.0\n",
    "            b1 = b1 - c*alpha1b*(yk-data[k,1])*(1-yk**2)/2.0\n",
    "            # update alpha wrt the function\n",
    "            alpha1w = alpha1w*(yk-data[k,1])*np.asarray(data[k,0])*(1-yk**2)/2.0\n",
    "            alpha1b = alpha1b*(yk-data[k,1])*(1-yk**2)/2.0\n",
    "        theta31[0:2] = w1\n",
    "        theta31[2] = b1\n",
    "        err =  np.max(abs(theta31-theta30)/(1+abs(theta30)))\n",
    "      \n",
    "    print('nit',nit,err,w1,b1)\n",
    "    return theta31  "
   ]
  },
  {
   "cell_type": "code",
   "execution_count": 78,
   "metadata": {},
   "outputs": [
    {
     "name": "stdout",
     "output_type": "stream",
     "text": [
      "[-22.64377189  20.02337447  -0.07534804]\n",
      "Optimization terminated successfully.\n",
      "26 1.7659088619527297e-06\n",
      "------Steepest descent\n",
      "nit 7818 4.999765977932613e-06 [-10.28126988   9.83386995] 0.8210371427056946\n",
      "[-10.28126988   9.83386995   0.82103714] 0.00038511832564044326\n",
      "------Backtracking\n",
      "nit 1 6.098747973304341e-08 [-9.99999988 10.00000018] 1.0000001219749595\n",
      "[-9.99999988 10.00000018  1.00000012] 0.0013185336917710057\n"
     ]
    }
   ],
   "source": [
    "x0 = np.array([-10.,10.,1.])\n",
    "opt = scipy.optimize.minimize(cost,x0)\n",
    "print(opt.x)\n",
    "print(opt.message)\n",
    "print(opt.nit,opt.fun)\n",
    "\n",
    "print(\"------Steepest descent\")\n",
    "optw = steep_desc(x0,0.05, 5e-6,data)\n",
    "print(optw,cost(optw))\n",
    "\n",
    "print(\"------Backtracking\")\n",
    "optw1 = steep_desc_backtracking(x0,0.05, 0.1, 5e-6,data)\n",
    "print(optw1,cost(optw1))\n"
   ]
  }
 ],
 "metadata": {
  "kernelspec": {
   "display_name": "Python 3 (ipykernel)",
   "language": "python",
   "name": "python3"
  },
  "language_info": {
   "codemirror_mode": {
    "name": "ipython",
    "version": 3
   },
   "file_extension": ".py",
   "mimetype": "text/x-python",
   "name": "python",
   "nbconvert_exporter": "python",
   "pygments_lexer": "ipython3",
   "version": "3.8.8"
  }
 },
 "nbformat": 4,
 "nbformat_minor": 4
}
