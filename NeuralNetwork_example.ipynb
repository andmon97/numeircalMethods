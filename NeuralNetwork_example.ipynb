{
 "cells": [
  {
   "cell_type": "markdown",
   "metadata": {},
   "source": [
    "# PERCEPTRON\n",
    "Our model describe a linear classifier that divides the coordinate plane into two halves,\n",
    "the line in the example is y=x.\n",
    "We want to learn a parameter vector such that our model make the right prediction.\n",
    "This model is called a linear perceptron.\n",
    "The cost function minimize the distance in the two norm."
   ]
  },
  {
   "cell_type": "code",
   "execution_count": 65,
   "metadata": {},
   "outputs": [],
   "source": [
    "import numpy as np\n",
    "import scipy.optimize\n",
    "import matplotlib.pyplot"
   ]
  },
  {
   "cell_type": "code",
   "execution_count": 66,
   "metadata": {},
   "outputs": [],
   "source": [
    "def activation(t): return (1-np.exp(-t))/(1+np.exp(-t))\n",
    "def neuron(w,b,x):return activation(np.inner(w,x)+b)"
   ]
  },
  {
   "cell_type": "code",
   "execution_count": 67,
   "metadata": {},
   "outputs": [
    {
     "name": "stdout",
     "output_type": "stream",
     "text": [
      "[1, 1.5]\n",
      "[3, 4]\n"
     ]
    }
   ],
   "source": [
    "#Train the neuron with some good data\n",
    "data = np.array([[[1,1.5],+1],\n",
    "       [[3,4],+1],\n",
    "       [[4,3],-1],\n",
    "       [[1.5,1],-1]],dtype=object)\n",
    "print(data[0,0])\n",
    "print(data[1,0])\n",
    "dataset = np.random.randn(100,2) #random distribution of normal distributed points"
   ]
  },
  {
   "cell_type": "code",
   "execution_count": 68,
   "metadata": {},
   "outputs": [],
   "source": [
    "def cost(teta):\n",
    "    w=teta[0:2]\n",
    "    b=teta[2]\n",
    "    c=0\n",
    "    for k in range(len(data)):\n",
    "        c +=(neuron(w,b,data[k,0])-data[k,1])**2  #error between the computed output and the real output\n",
    "    return c"
   ]
  },
  {
   "cell_type": "code",
   "execution_count": 69,
   "metadata": {},
   "outputs": [
    {
     "name": "stdout",
     "output_type": "stream",
     "text": [
      "[-14.43839062  14.66289908  -0.07286616]\n",
      "Optimization terminated successfully.\n"
     ]
    }
   ],
   "source": [
    "x0 = np.array([1,1.,1.]);\n",
    "opt = scipy.optimize.minimize(cost,x0);\n",
    "print(opt.x)\n",
    "print(opt.message)"
   ]
  },
  {
   "cell_type": "code",
   "execution_count": 70,
   "metadata": {},
   "outputs": [
    {
     "data": {
      "text/plain": [
       "0.998875601452937"
      ]
     },
     "execution_count": 70,
     "metadata": {},
     "output_type": "execute_result"
    }
   ],
   "source": [
    "def neuronopt(x): return neuron(opt.x[0:2],opt.x[2],x);\n",
    "neuronopt([1,1.5        ])"
   ]
  },
  {
   "cell_type": "code",
   "execution_count": 71,
   "metadata": {},
   "outputs": [],
   "source": [
    "datatest1 = np.array([p for p in dataset if neuronopt(p)>0])\n",
    "datatest2 = np.array([p for p in dataset if neuronopt(p)<=0])\n"
   ]
  },
  {
   "cell_type": "code",
   "execution_count": 72,
   "metadata": {},
   "outputs": [
    {
     "data": {
      "image/png": "[encoded data removed]",
      "text/plain": [
       "<Figure size 432x288 with 1 Axes>"
      ]
     },
     "metadata": {
      "needs_background": "light"
     },
     "output_type": "display_data"
    }
   ],
   "source": [
    "matplotlib.pyplot.plot([-2,2],[-2,2],'r', datatest1[::,0], datatest1[::,1],'ko',  datatest2[::,0], datatest2[::,1],'ro');"
   ]
  },
  {
   "cell_type": "code",
   "execution_count": 73,
   "metadata": {},
   "outputs": [],
   "source": [
    "import numpy as np\n",
    "def steep_desc(theta,alpha,tol,data):\n",
    "    (n,m)=data.shape\n",
    "    (n1) = theta.shape\n",
    "    theta31 = np.copy(theta)\n",
    "    w1 = theta31[0:2]\n",
    "    b1 = theta31[2]\n",
    "    nitmax = 60000\n",
    "    err=1\n",
    "    nit=0#number of iterartion\n",
    "    while err > tol and nit < nitmax:\n",
    "        nit=nit+1\n",
    "        theta30 = np.copy(theta31)\n",
    "        w0 = np.copy(w1)\n",
    "        b0 = np.copy(b1)\n",
    "        w1 = np.copy(w0)\n",
    "        b1 = np.copy(b0)\n",
    "        for k in range(n):\n",
    "            yk = neuron(w0,b0,data[k,0]) \n",
    "            w1 = w1 - alpha*(yk-data[k,1])*np.asarray(data[k,0])*(1-yk**2)/2.0\n",
    "            b1 = b1 - alpha*(yk-data[k,1])*(1-yk**2)/2.0\n",
    "        theta31[0:2] = w1\n",
    "        theta31[2] = b1\n",
    "        err =  np.max(abs(theta31-theta30)/(1+abs(theta30)))\n",
    "      \n",
    "    print('nit',nit,err,w1,b1)\n",
    "    return theta31  "
   ]
  },
  {
   "cell_type": "code",
   "execution_count": 74,
   "metadata": {},
   "outputs": [
    {
     "name": "stdout",
     "output_type": "stream",
     "text": [
      "[-22.64377189  20.02337447  -0.07534804]\n",
      "Optimization terminated successfully.\n",
      "26 1.7659088619527297e-06\n",
      "nit 7818 4.999765977932613e-06 [-10.28126988   9.83386995] 0.8210371427056946\n",
      "[-10.28126988   9.83386995   0.82103714] 0.00038511832564044326\n"
     ]
    }
   ],
   "source": [
    "x0 = np.array([-10.,10.,1.]);\n",
    "opt = scipy.optimize.minimize(cost,x0);\n",
    "print(opt.x)\n",
    "print(opt.message)\n",
    "print(opt.nit,opt.fun)\n",
    "optw = steep_desc(x0,0.05, 5e-6,data)\n",
    "print(optw,cost(optw))"
   ]
  },
  {
   "cell_type": "code",
   "execution_count": 75,
   "metadata": {},
   "outputs": [],
   "source": [
    "def neuronoptw(x): return neuron(optw[0:2],optw[2],x);"
   ]
  },
  {
   "cell_type": "code",
   "execution_count": 76,
   "metadata": {},
   "outputs": [
    {
     "data": {
      "image/png": "[encoded data removed]",
      "text/plain": [
       "<Figure size 432x288 with 1 Axes>"
      ]
     },
     "metadata": {
      "needs_background": "light"
     },
     "output_type": "display_data"
    }
   ],
   "source": [
    "datatest1w = np.array([p for p in dataset if neuronoptw(p)>0])\n",
    "datatest2w = np.array([p for p in dataset if neuronoptw(p)<0])\n",
    "matplotlib.pyplot.plot([-2,2],[-2,2],'r', datatest1w[::,0], datatest1w[::,1],'ko',  datatest2w[::,0], datatest2w[::,1],'ro');"
   ]
  },
  {
   "cell_type": "markdown",
   "metadata": {},
   "source": [
    "Exercise: Implement the backtraking approach for the computation of the step-length at each iteration of the line search method that uses the steepest direction. Compare the results with the method that uses a constant value of the step-length."
   ]
  },
  {
   "cell_type": "code",
   "execution_count": 77,
   "metadata": {},
   "outputs": [],
   "source": [
    "import numpy as np\n",
    "def steep_desc_backtracking(theta,alpha,c,p,tol,data):\n",
    "    (n,m)=data.shape\n",
    "    (n1) = theta.shape\n",
    "    theta31 = np.copy(theta)\n",
    "    #alpha1w = alpha\n",
    "    #alpha1b = alpha\n",
    "    w1 = theta31[0:2]\n",
    "    b1 = theta31[2]\n",
    "    nitmax = 100000\n",
    "    err=1\n",
    "    nit=0#number of iterartion\n",
    "    while err > tol and nit < nitmax:\n",
    "        nit=nit+1\n",
    "        theta30 = np.copy(theta31)\n",
    "        w0 = np.copy(w1)\n",
    "        b0 = np.copy(b1)\n",
    "        w1 = np.copy(w0)\n",
    "        b1 = np.copy(b0)\n",
    "        for k in range(n):\n",
    "            yk = neuron(w0,b0,data[k,0]) \n",
    "            w1 = w1 - c*alpha*(yk-data[k,1])*np.asarray(data[k,0])*(1-yk**2)/2.0\n",
    "            b1 = b1 - c*alpha*(yk-data[k,1])*(1-yk**2)/2.0\n",
    "            # update alpha wrt the function\n",
    "            alpha = p*alpha\n",
    "            print(\"Alpha \",alpha)\n",
    "        theta31[0:2] = w1\n",
    "        theta31[2] = b1\n",
    "        err =  np.max(abs(theta31-theta30)/(1+abs(theta30)))\n",
    "      \n",
    "    print('nit',nit,err,w1,b1)\n",
    "    return theta31  "
   ]
  },
  {
   "cell_type": "code",
   "execution_count": 78,
   "metadata": {},
   "outputs": [
    {
     "name": "stdout",
     "output_type": "stream",
     "text": [
      "[-14.43839062  14.66289908  -0.07286616]\n",
      "Optimization terminated successfully.\n",
      "22 4.165100553450408e-06\n",
      "prediction  0.998875601452937\n",
      "------Steepest descent\n",
      "nit 24342 4.99998340891799e-06 [-7.68797404  7.67316113] 0.018557420073486198\n",
      "------Backtracking\n",
      "Alpha  0.045000000000000005\n",
      "Alpha  0.04050000000000001\n",
      "Alpha  0.03645000000000001\n",
      "Alpha  0.03280500000000001\n",
      "Alpha  0.02952450000000001\n",
      "Alpha  0.02657205000000001\n",
      "Alpha  0.02391484500000001\n",
      "Alpha  0.021523360500000012\n",
      "Alpha  0.01937102445000001\n",
      "Alpha  0.01743392200500001\n",
      "Alpha  0.015690529804500006\n",
      "Alpha  0.014121476824050006\n",
      "Alpha  0.012709329141645007\n",
      "Alpha  0.011438396227480507\n",
      "Alpha  0.010294556604732457\n",
      "Alpha  0.00926510094425921\n",
      "Alpha  0.00833859084983329\n",
      "Alpha  0.007504731764849962\n",
      "Alpha  0.006754258588364966\n",
      "Alpha  0.00607883272952847\n",
      "Alpha  0.005470949456575623\n",
      "Alpha  0.0049238545109180605\n",
      "Alpha  0.004431469059826255\n",
      "Alpha  0.0039883221538436296\n",
      "Alpha  0.003589489938459267\n",
      "Alpha  0.0032305409446133403\n",
      "Alpha  0.0029074868501520064\n",
      "Alpha  0.0026167381651368057\n",
      "Alpha  0.002355064348623125\n",
      "Alpha  0.002119557913760813\n",
      "Alpha  0.0019076021223847317\n",
      "Alpha  0.0017168419101462585\n",
      "Alpha  0.0015451577191316326\n",
      "Alpha  0.0013906419472184694\n",
      "Alpha  0.0012515777524966226\n",
      "Alpha  0.0011264199772469603\n",
      "Alpha  0.0010137779795222643\n",
      "Alpha  0.0009124001815700379\n",
      "Alpha  0.0008211601634130341\n",
      "Alpha  0.0007390441470717307\n",
      "Alpha  0.0006651397323645576\n",
      "Alpha  0.0005986257591281018\n",
      "Alpha  0.0005387631832152916\n",
      "Alpha  0.0004848868648937625\n",
      "Alpha  0.0004363981784043862\n",
      "Alpha  0.0003927583605639476\n",
      "Alpha  0.00035348252450755286\n",
      "Alpha  0.0003181342720567976\n",
      "Alpha  0.00028632084485111784\n",
      "Alpha  0.00025768876036600606\n",
      "Alpha  0.00023191988432940547\n",
      "Alpha  0.00020872789589646492\n",
      "Alpha  0.00018785510630681842\n",
      "Alpha  0.00016906959567613658\n",
      "Alpha  0.00015216263610852294\n",
      "Alpha  0.00013694637249767063\n",
      "Alpha  0.00012325173524790358\n",
      "Alpha  0.00011092656172311323\n",
      "Alpha  9.983390555080191e-05\n",
      "Alpha  8.985051499572172e-05\n",
      "Alpha  8.086546349614955e-05\n",
      "Alpha  7.27789171465346e-05\n",
      "Alpha  6.550102543188114e-05\n",
      "Alpha  5.895092288869303e-05\n",
      "Alpha  5.305583059982373e-05\n",
      "Alpha  4.7750247539841356e-05\n",
      "Alpha  4.297522278585722e-05\n",
      "Alpha  3.86777005072715e-05\n",
      "Alpha  3.480993045654435e-05\n",
      "Alpha  3.1328937410889915e-05\n",
      "Alpha  2.8196043669800925e-05\n",
      "Alpha  2.5376439302820835e-05\n",
      "Alpha  2.2838795372538753e-05\n",
      "Alpha  2.0554915835284878e-05\n",
      "Alpha  1.849942425175639e-05\n",
      "Alpha  1.6649481826580752e-05\n",
      "Alpha  1.4984533643922677e-05\n",
      "Alpha  1.348608027953041e-05\n",
      "Alpha  1.213747225157737e-05\n",
      "Alpha  1.0923725026419632e-05\n",
      "Alpha  9.831352523777669e-06\n",
      "Alpha  8.848217271399903e-06\n",
      "Alpha  7.963395544259913e-06\n",
      "Alpha  7.167055989833922e-06\n",
      "Alpha  6.4503503908505294e-06\n",
      "Alpha  5.805315351765477e-06\n",
      "Alpha  5.224783816588929e-06\n",
      "Alpha  4.702305434930037e-06\n",
      "Alpha  4.232074891437034e-06\n",
      "Alpha  3.8088674022933302e-06\n",
      "Alpha  3.427980662063997e-06\n",
      "Alpha  3.0851825958575973e-06\n",
      "Alpha  2.7766643362718377e-06\n",
      "Alpha  2.498997902644654e-06\n",
      "Alpha  2.2490981123801883e-06\n",
      "Alpha  2.0241883011421697e-06\n",
      "Alpha  1.8217694710279527e-06\n",
      "Alpha  1.6395925239251574e-06\n",
      "Alpha  1.4756332715326416e-06\n",
      "Alpha  1.3280699443793774e-06\n",
      "Alpha  1.1952629499414398e-06\n",
      "Alpha  1.075736654947296e-06\n",
      "Alpha  9.681629894525663e-07\n",
      "Alpha  8.713466905073097e-07\n",
      "Alpha  7.842120214565787e-07\n",
      "Alpha  7.057908193109208e-07\n",
      "Alpha  6.352117373798287e-07\n",
      "Alpha  5.716905636418458e-07\n",
      "Alpha  5.145215072776612e-07\n",
      "Alpha  4.630693565498951e-07\n",
      "Alpha  4.167624208949056e-07\n",
      "Alpha  3.7508617880541505e-07\n",
      "nit 28 3.4818845330606936e-12 [0.99999823 0.99999885] 0.9999988617930342\n"
     ]
    }
   ],
   "source": [
    "x0 = np.array([1,1.,1.])\n",
    "opt = scipy.optimize.minimize(cost,x0)\n",
    "print(opt.x)\n",
    "print(opt.message)\n",
    "print(opt.nit,opt.fun)\n",
    "def neuronopt(x): return neuron(opt.x[0:2],opt.x[2],x)\n",
    "print(\"prediction \", neuronopt([1,1.5]))\n",
    "print(\"------Steepest descent\")\n",
    "optw = steep_desc(x0,0.05, 5e-6,data)\n",
    "#print(optw,cost(optw))\n",
    "\n",
    "print(\"------Backtracking\")\n",
    "optw1 = steep_desc_backtracking(x0,0.05, 1e-4, 0.9, 5e-12,data)\n",
    "#neuronopt([1,1.5 ])"
   ]
  }
 ],
 "metadata": {
  "kernelspec": {
   "display_name": "Python 3 (ipykernel)",
   "language": "python",
   "name": "python3"
  },
  "language_info": {
   "codemirror_mode": {
    "name": "ipython",
    "version": 3
   },
   "file_extension": ".py",
   "mimetype": "text/x-python",
   "name": "python",
   "nbconvert_exporter": "python",
   "pygments_lexer": "ipython3",
   "version": "3.8.8"
  }
 },
 "nbformat": 4,
 "nbformat_minor": 4
}
