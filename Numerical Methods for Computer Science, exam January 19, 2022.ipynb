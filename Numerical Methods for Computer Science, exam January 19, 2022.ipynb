{
 "cells": [
  {
   "cell_type": "markdown",
   "id": "3b20bc2c",
   "metadata": {},
   "source": [
    "# 1 Text mining\n",
    "\n",
    "Let us consider the following document-term matrix $A$"
   ]
  },
  {
   "cell_type": "code",
   "execution_count": 107,
   "id": "c6c53754",
   "metadata": {},
   "outputs": [
    {
     "name": "stdout",
     "output_type": "stream",
     "text": [
      "vectorizer.vocabulary_: {'the': 43, 'graph': 17, 'of': 29, 'function': 13, 'in': 21, 'two': 45, 'variable': 47, 'is': 22, 'surface': 41, '3d': 0, 'space': 39, 'partial': 33, 'derivative': 9, 'ordinary': 32, 'gradient': 16, 'variables': 48, 'contains': 5, 'its': 23, 'derivatives': 10, 'are': 3, 'slope': 38, 'tangent': 42, 'plane': 34, 'linear': 24, 'approximation': 2, 'if': 20, 'convex': 7, 'then': 44, 'any': 1, 'local': 25, 'minimizer': 28, 'global': 14, 'steepest': 40, 'descent': 11, 'method': 27, 'uses': 46, 'opposite': 30, 'direction': 12, 'globally': 15, 'convergent': 6, 'wolfe': 49, 'condition': 4, 'holds': 19, 'hessian': 18, 'matrix': 26, 'second': 36, 'order': 31, 'positive': 35, 'semi': 37, 'definite': 8}\n",
      "(50, 10)\n"
     ]
    }
   ],
   "source": [
    "import sklearn\n",
    "import numpy as np\n",
    "import sklearn.feature_extraction\n",
    "\n",
    "np.set_printoptions(suppress=True)\n",
    "\n",
    "vectorizer = sklearn.feature_extraction.text.CountVectorizer(min_df=1)\n",
    "\n",
    "documents = [\n",
    "    'The graph of a function in two variable is a surface in the 3D space',\n",
    "    'The partial derivative is the ordinary derivative of a partial function',\n",
    "    'The gradient of a two-variables function contains its partial derivatives',\n",
    "    'The partial derivatives are the slope of the tangent plane',\n",
    "    'The tangent plane is the linear approximation of a surface',\n",
    "    'If a function is convex then any local minimizer is a global minimizer',\n",
    "    'A steepest descent method uses the opposite of the gradient direction',\n",
    "    'The steepest descent method is globally convergent if the Wolfe condition holds',\n",
    "    'The Hessian matrix is the matrix of second-order partial derivatives',\n",
    "    'The Hessian matrix of a convex function is positive semi-definite'\n",
    "]\n",
    "\n",
    "X = vectorizer.fit_transform(documents).toarray()\n",
    "print('vectorizer.vocabulary_: {0}'.format(vectorizer.vocabulary_))\n",
    "\n",
    "A = X.T\n",
    "print(A.shape)"
   ]
  },
  {
   "cell_type": "markdown",
   "id": "50fd3e5e",
   "metadata": {},
   "source": [
    "First do a bit of data preprocessing to have better results."
   ]
  },
  {
   "cell_type": "code",
   "execution_count": 108,
   "id": "f92b9c73",
   "metadata": {},
   "outputs": [
    {
     "name": "stdout",
     "output_type": "stream",
     "text": [
      "\n",
      " List of documents without stop words\n",
      "  ['The graph function variable surface 3D space', 'The partial derivative ordinary derivative partial function', 'The gradient two-variables function contains partial derivatives', 'The partial derivatives slope tangent plane', 'The tangent plane linear approximation surface', 'If function convex local minimizer global minimizer', 'A steepest descent method uses opposite gradient direction', 'The steepest descent method globally convergent Wolfe condition holds', 'The Hessian matrix matrix second-order partial derivatives', 'The Hessian matrix convex function positive semi-definite']\n",
      "\n",
      " List of documents after stemming \n",
      "  ['the graph function variabl surfac 3d space', 'the partial deriv ordinari deriv partial function', 'the gradient two-vari function contain partial deriv', 'the partial deriv slope tangent plane', 'the tangent plane linear approxim surfac', 'if function convex local minim global minim', 'a steepest descent method us opposit gradient direct', 'the steepest descent method global converg wolf condit hold', 'the hessian matrix matrix second-ord partial deriv', 'the hessian matrix convex function posit semi-definit']\n",
      "vectorizer.vocabulary_: {'the': 35, 'graph': 13, 'function': 10, 'variabl': 39, 'surfac': 33, '3d': 0, 'space': 31, 'partial': 25, 'deriv': 7, 'ordinari': 24, 'gradient': 12, 'two': 36, 'vari': 38, 'contain': 3, 'slope': 30, 'tangent': 34, 'plane': 26, 'linear': 17, 'approxim': 1, 'if': 16, 'convex': 5, 'local': 18, 'minim': 21, 'global': 11, 'steepest': 32, 'descent': 8, 'method': 20, 'us': 37, 'opposit': 22, 'direct': 9, 'converg': 4, 'wolf': 40, 'condit': 2, 'hold': 15, 'hessian': 14, 'matrix': 19, 'second': 28, 'ord': 23, 'posit': 27, 'semi': 29, 'definit': 6}\n",
      "(41, 10)\n"
     ]
    }
   ],
   "source": [
    "from gensim.parsing.preprocessing import remove_stopwords, stem_text\n",
    "L = []\n",
    "for i in range(len(documents)):\n",
    "    L.append(remove_stopwords(documents[i]))\n",
    "print('\\n List of documents without stop words\\n ', L)\n",
    "\n",
    "L_final = []\n",
    "for i in range(len(documents)):\n",
    "    L_final.append(stem_text(L[i]))\n",
    "print('\\n List of documents after stemming \\n ', L_final)\n",
    "\n",
    "Y = vectorizer.fit_transform(L_final).toarray()\n",
    "print('vectorizer.vocabulary_: {0}'.format(vectorizer.vocabulary_))\n",
    "\n",
    "A = Y.T\n",
    "print(A.shape)\n"
   ]
  },
  {
   "cell_type": "markdown",
   "id": "575d9508",
   "metadata": {},
   "source": [
    "Given the following query: \"convex function\""
   ]
  },
  {
   "cell_type": "code",
   "execution_count": 109,
   "id": "ba9d4c3d",
   "metadata": {},
   "outputs": [],
   "source": [
    " #query vector\n",
    "query1text = ['convex function']\n",
    "query_stem = query1text[0]\n",
    "query1 = []\n",
    "query1.append(query_stem)\n",
    "query1 = vectorizer.transform(query1).toarray()"
   ]
  },
  {
   "cell_type": "markdown",
   "id": "b9042597",
   "metadata": {},
   "source": [
    "To search for the relevant documents, compute the cosine similarity between the query vector and the documents vectors.\n",
    "Compare the method using the cosine similarity with the optimized method using a low rank approximation computed with the QR decomposition and  the reduced rank vector model using the singular value decomposition called Latent semantic indexing. (For the theory see the article in the file section of the Teams channel named vectorspacemodelxIR_SIAMreview1999.pdf, the lectures   6_Cosine_LinearCorrelation, RM_Lecture10_12_21, 08_31_projectors.pdf, Example 5.12.4 of the Meyer book)"
   ]
  },
  {
   "cell_type": "code",
   "execution_count": 110,
   "id": "e41a30ad",
   "metadata": {},
   "outputs": [
    {
     "name": "stdout",
     "output_type": "stream",
     "text": [
      "Similarity query documents:\n",
      " [0.26726124 0.21320072 0.25       0.         0.         0.47140452\n",
      " 0.         0.         0.         0.5       ]\n",
      "Sorted relevant docs: [9 5 0 2 1 3 4 6 7 8]\n"
     ]
    }
   ],
   "source": [
    "import scipy.linalg as spl\n",
    "(m,n)=A.shape\n",
    "# calculate the euclidean norms of each column of A\n",
    "eu = np.array(np.zeros(n))\n",
    "for i in range(n):\n",
    "    eu[i] = np.linalg.norm(A[:,i],2)\n",
    "\n",
    "# normalize columns of matrix A in respect of norm of selected column\n",
    "# (in this way we don't need to normalize the documents when calculating cosine similarity)\n",
    "As = np.dot(A,np.diag(1/eu))\n",
    "\n",
    "# cos of the angles:  cos(teta) = x^T y / (||x||*||y||)\n",
    "similarity = np.dot(As.T,query1[0])/np.linalg.norm(query1[0],2) #we don't put the norm of the i-th column, we do all the calculation for each document in one row\n",
    "print(\"Similarity query documents:\\n\", similarity.T)\n",
    "print(\"Sorted relevant docs:\", np.argsort(-similarity.T)[:])\n"
   ]
  },
  {
   "cell_type": "markdown",
   "id": "f7db5c8d",
   "metadata": {},
   "source": [
    "## LOW RANK APPROXIMATION WITH QR\n",
    "\n",
    "Let compute the QR factorization."
   ]
  },
  {
   "cell_type": "code",
   "execution_count": 111,
   "id": "552a995e",
   "metadata": {},
   "outputs": [
    {
     "name": "stdout",
     "output_type": "stream",
     "text": [
      "Q\n",
      "(41, 10)\n",
      "R\n",
      "(10, 10)\n",
      "P\n",
      "(10,)\n",
      "Rank of the original matrix:  10\n"
     ]
    }
   ],
   "source": [
    "[Q,R,P]=spl.qr(As,mode = 'economic',pivoting=True)  # QR factorization with pivoting on the scaled \n",
    "# In general, it is necessary to use column pivoting during the QR factorization to ensure that the zeros appear at the bottom of the matrix AP = QR\n",
    "print('Q')\n",
    "print(Q.shape)\n",
    "print('R')\n",
    "print(R.shape)\n",
    "print('P')\n",
    "print(P.shape)\n",
    "\n",
    "import numpy.linalg as npl\n",
    "print(\"Rank of the original matrix: \",npl.matrix_rank(As))"
   ]
  },
  {
   "cell_type": "code",
   "execution_count": 112,
   "id": "b03df38f",
   "metadata": {},
   "outputs": [
    {
     "name": "stdout",
     "output_type": "stream",
     "text": [
      "(41, 10)\n",
      "(10, 10)\n",
      "Similarity query documents:\n",
      " [0.26726124 0.21320072 0.25       0.         0.         0.47140452\n",
      " 0.         0.         0.         0.5       ]\n",
      "Sorted relevant docs: [9 5 0 2 1 7 4 8 3 6]\n"
     ]
    }
   ],
   "source": [
    "QA=np.copy(Q[:,0:npl.matrix_rank(As)])\n",
    "# QA basis for the column space of A\n",
    "print(QA.shape)\n",
    "RA=np.copy(R[0:npl.matrix_rank(As),:])\n",
    "print(RA.shape)\n",
    "# In general, it is necessary to use column pivoting during the QR factorization to ensure that the zeros appear  at the bottom of the matrix AP = QR\n",
    "\n",
    "A_r=np.dot(QA,RA)[:,np.argsort(P)]\n",
    "      \n",
    "# cos of the angles:  cos(teta) = x^T y / (||x||*||y||)\n",
    "sim=np.dot(A_r.T,query1[0])/np.linalg.norm(query1[0],2) #we don't put the norm of the i-th column\n",
    "print(\"Similarity query documents:\\n\", sim.T)\n",
    "print(\"Sorted relevant docs:\", np.argsort(-sim.T)[:])\n",
    "\n"
   ]
  },
  {
   "cell_type": "markdown",
   "id": "50f6c290",
   "metadata": {},
   "source": [
    "We can see that we have the same result wrt the original matrix.\n",
    "For our purposes, it could be better to have less information in the term document matrix because we want to query in a \"less-noise space\".\n",
    "\n",
    "As descibed in the article, the QR factorization with pivoting tends to separate the large and small parts of the matrix, pushing the larger entries toward the upper left corner of the matrix and the smaller ones toward the lower right.\n",
    "So, we can choose a set of tollerances that describes relative changes in the value of R that makes the same-sized change in A (our therm document matrix), and the compute the cosine similarity wrt to this lower rank matrices.\n",
    "\n",
    "Let us see what happen.\n",
    "\n"
   ]
  },
  {
   "cell_type": "code",
   "execution_count": 125,
   "id": "7d2040ec",
   "metadata": {},
   "outputs": [
    {
     "name": "stdout",
     "output_type": "stream",
     "text": [
      "tol= 0.9      numb col = 6 / 10\n",
      "Similarity query documents:\n",
      " [0.26726124 0.10338985 0.14522601 0.         0.05294343 0.47140452\n",
      " 0.         0.         0.15790815 0.5       ]\n",
      "Sorted relevant docs: [9 5 0 8 2 1 4 7 3 6]\n",
      "---------------------------------------------------------------\n",
      "tol= 0.7      numb col = 9 / 10\n",
      "Similarity query documents:\n",
      " [0.26726124 0.12313359 0.25       0.         0.         0.47140452\n",
      " 0.         0.         0.         0.5       ]\n",
      "Sorted relevant docs: [9 5 0 2 1 7 4 8 3 6]\n",
      "---------------------------------------------------------------\n",
      "tol= 0.3      numb col = 10 / 10\n",
      "Similarity query documents:\n",
      " [0.26726124 0.21320072 0.25       0.         0.         0.47140452\n",
      " 0.         0.         0.         0.5       ]\n",
      "Sorted relevant docs: [9 5 0 2 1 7 4 8 3 6]\n",
      "---------------------------------------------------------------\n",
      "tol= 0.1      numb col = 10 / 10\n",
      "Similarity query documents:\n",
      " [0.26726124 0.21320072 0.25       0.         0.         0.47140452\n",
      " 0.         0.         0.         0.5       ]\n",
      "Sorted relevant docs: [9 5 0 2 1 7 4 8 3 6]\n",
      "---------------------------------------------------------------\n",
      "tol= 0.01      numb col = 10 / 10\n",
      "Similarity query documents:\n",
      " [0.26726124 0.21320072 0.25       0.         0.         0.47140452\n",
      " 0.         0.         0.         0.5       ]\n",
      "Sorted relevant docs: [9 5 0 2 1 7 4 8 3 6]\n",
      "---------------------------------------------------------------\n"
     ]
    }
   ],
   "source": [
    "#extract the diagonal of R, normalize it with a norm\n",
    "Rdiag = np.abs(np.diag(R))\n",
    "Rdiag = Rdiag/Rdiag.max()  #wrt the norm infinite\n",
    "\n",
    "# choose a set of tolerances\n",
    "tols = [.9, .7, .3, .1, 1e-2]\n",
    "\n",
    "# array that contains the number of cols of the different low rank approximations\n",
    "nc_list = [] \n",
    "\n",
    "for tol in tols:\n",
    "    nc=0    #number of values from diagonal greater than tolerance\n",
    "    for i in range(0,Rdiag.shape[0]):\n",
    "        if(Rdiag[i]>tol):\n",
    "            nc+=1\n",
    "    nc_list.append(nc)  #save the nc value\n",
    "\n",
    "    #reducing the matrices\n",
    "    QA=np.copy(Q[:,0:nc]) #copying first nc columns of Qimg\n",
    "    RA=np.copy(R[0:nc,:]) #copying first nc rows of Rimg\n",
    "\n",
    "    #Use this approximation to compute again the cosine similarity:\n",
    "    #calculate the approximate matrix by calculating: A = Q*R*P^T\n",
    "    print(\"tol=\",tol , \"     numb col =\", nc, \"/\", Rdiag.size)\n",
    "    A_r=np.dot(QA,RA)[:,np.argsort(P)]\n",
    "\n",
    "    # cos of the angles:  cos(teta) = x^T y / (||x||*||y||)\n",
    "    sim=np.dot(A_r.T,query1[0])/np.linalg.norm(query1[0],2) #we don't put the norm of the i-th column\n",
    "\n",
    "    print(\"Similarity query documents:\\n\", sim.T)\n",
    "    print(\"Sorted relevant docs:\", np.argsort(-sim.T)[:])\n",
    "    print(\"---------------------------------------------------------------\")\n",
    "\n"
   ]
  },
  {
   "cell_type": "markdown",
   "id": "f85eedf9",
   "metadata": {},
   "source": []
  },
  {
   "cell_type": "markdown",
   "id": "2f9e7da4",
   "metadata": {},
   "source": []
  },
  {
   "cell_type": "markdown",
   "id": "2f42fe78",
   "metadata": {},
   "source": [
    "## SVD (Latent Semantic Index)\n",
    "\n",
    "We now factorize the term document matrix using the SVD decomposition instead of the QR factorization.\n",
    "The singular value decomposition of the term document matrix is:\n",
    "\n",
    "A = U * S * V^T with U, V orhogonal and S diagonal matrix\n",
    "\n",
    "We need to build S diagonal using the singual values returned by svd(A) on the diagonal and 0 otherwise."
   ]
  },
  {
   "cell_type": "code",
   "execution_count": 126,
   "id": "a5ca86e7",
   "metadata": {},
   "outputs": [],
   "source": [
    "U, Sv, Vt = np.linalg.svd(A)      #A = U*S*V^T\n",
    "# Sv is a vector containing the singular values, we put the element in a diagonal matrix S\n",
    "S = np.zeros((m,n),'float64')   #create a matrix with all zeros of size m and n\n",
    "S[0:n,0:n] = np.diag(Sv)        #populate the diagonal values of S, we use n as the lower dimension\n",
    "V = Vt.T                        #calculate transpose of V   "
   ]
  },
  {
   "cell_type": "markdown",
   "id": "d01b1d41",
   "metadata": {},
   "source": [
    "Then we use the nc computed in the first part of the exercise, to reduce the U, S and V matrices\n",
    "\n",
    "We can precompute the product SA*VA^T, in order to optimize the calculus of the similarity, as the norm of this product which will go on the denominator.\n",
    "\n",
    "The cosine similarity is: \n",
    "\n",
    "cos(teta) = s^T *(UA^T * query) / (||s|| * ||query||)\n",
    "\n",
    "We then extract the relevant document, sorted by relevance:"
   ]
  },
  {
   "cell_type": "code",
   "execution_count": 128,
   "id": "80e3a806",
   "metadata": {},
   "outputs": [
    {
     "name": "stdout",
     "output_type": "stream",
     "text": [
      "numb col = 6\n",
      "Similarity query documents:\n",
      " [ 0.37183174  0.18523754  0.29688317 -0.02572205 -0.02694311  0.50940225\n",
      " -0.0225428   0.0116531   0.09458597  0.42880415]\n",
      "--> Sorted relevant docs: [5 9 0 2 1 8 7 6 3 4]\n",
      "----------------------------------------------\n",
      "\n",
      "numb col = 9\n",
      "Similarity query documents:\n",
      " [ 0.27289291  0.20658246  0.25204292  0.02364162 -0.01542221  0.47192732\n",
      " -0.00024965 -0.00020276 -0.00009956  0.50044597]\n",
      "--> Sorted relevant docs: [9 5 0 2 1 3 8 7 6 4]\n",
      "----------------------------------------------\n",
      "\n",
      "numb col = 10\n",
      "Similarity query documents:\n",
      " [ 0.26726124  0.21320072  0.25        0.          0.          0.47140452\n",
      " -0.         -0.         -0.          0.5       ]\n",
      "--> Sorted relevant docs: [9 5 0 2 1 4 3 6 8 7]\n",
      "----------------------------------------------\n",
      "\n",
      "numb col = 10\n",
      "Similarity query documents:\n",
      " [ 0.26726124  0.21320072  0.25        0.          0.          0.47140452\n",
      " -0.         -0.         -0.          0.5       ]\n",
      "--> Sorted relevant docs: [9 5 0 2 1 4 3 6 8 7]\n",
      "----------------------------------------------\n",
      "\n",
      "numb col = 10\n",
      "Similarity query documents:\n",
      " [ 0.26726124  0.21320072  0.25        0.          0.          0.47140452\n",
      " -0.         -0.         -0.          0.5       ]\n",
      "--> Sorted relevant docs: [9 5 0 2 1 4 3 6 8 7]\n",
      "----------------------------------------------\n",
      "\n"
     ]
    }
   ],
   "source": [
    "for nc in nc_list:\n",
    "    print('numb col =', nc) #we use the nc calculated in the first part\n",
    "    \n",
    "    #reducing the matrices:\n",
    "    UA = np.copy(U[:,0:nc])    #copying first nc columns of U\n",
    "    SA = np.copy(S[0:nc,0:nc]) #copying first nc rows and columns of S\n",
    "    VA = np.copy(V[:,0:nc])    #copying first nc columns of V\n",
    "\n",
    "    e = np.eye(n)\n",
    "\n",
    "    SV = []\n",
    "    for j in range(n):\n",
    "        SV.append(np.dot(SA,np.dot(VA.T,e[j])))  # we compute in advance the product SA*VA^T, after we'll compute the product with Uk\n",
    "        \n",
    "    # we calculate the norm of s (we'll put it on the denominator of the cosine similarity)\n",
    "    SV_norm=[]\n",
    "    for j in range(n):\n",
    "        SV_norm.append(np.linalg.norm(SV[j],2))\n",
    "\n",
    "    sim=[]\n",
    "    for j in range(n):\n",
    "      sim.append( (  np.dot(SV[j].T,np.dot(UA.T,query1[0]))  / (SV_norm[j]*np.linalg.norm(query1[0],2)) )  .item() )\n",
    "    similarity = np.array(sim)\n",
    "\n",
    "    print(\"Similarity query documents:\\n\", similarity)\n",
    "    print(\"--> Sorted relevant docs:\", np.argsort(-similarity)[:])\n",
    "    print('----------------------------------------------\\n')"
   ]
  },
  {
   "attachments": {
    "PageRankExam.png": {
     "image/png": "[encoded data removed]"
    }
   },
   "cell_type": "markdown",
   "id": "1e3b2a78",
   "metadata": {},
   "source": [
    "# 2 Page Ranking\n",
    "\n",
    "Given the following simplified web model, first construct the hyperlink matrix and then construct the Google matrix to compute the page with the highest importance via the power-method\n",
    "\n",
    "\n",
    "<div>\n",
    "<img src=\"attachment:PageRankExam.png\" width=\"400\"/>\n",
    "</div>\n",
    "\n",
    "(For the theory related to this example look in File/Codice/Python/Power Method and Google Page Ranking.ipynb )"
   ]
  },
  {
   "cell_type": "markdown",
   "id": "f319b891",
   "metadata": {},
   "source": [
    "# 3 PERCEPTRON\n",
    "\n",
    "Implement a model that describe a  classifier that divides the coordinate plane into two halves, the line in the test data  is y=-3*x. We want to learn a parameter vector such that our model make the right prediction. This model is called a  perceptron. The cost function minimizes the distance in the two norm. \n"
   ]
  },
  {
   "cell_type": "code",
   "execution_count": 114,
   "id": "12c50a64",
   "metadata": {},
   "outputs": [],
   "source": [
    "import numpy as np\n",
    "import scipy.optimize\n",
    "import matplotlib.pyplot"
   ]
  },
  {
   "cell_type": "markdown",
   "id": "e9081908",
   "metadata": {},
   "source": [
    "use the following neuron"
   ]
  },
  {
   "cell_type": "code",
   "execution_count": 115,
   "id": "bca856ff",
   "metadata": {},
   "outputs": [],
   "source": [
    "def phi(t): return (1-np.exp(-t))/(1+np.exp(-t))\n",
    "def neuron(w,b,x):return phi(np.inner(w,x)+b)"
   ]
  },
  {
   "cell_type": "markdown",
   "id": "6dae859f",
   "metadata": {},
   "source": [
    "Train the neuron with the following  data"
   ]
  },
  {
   "cell_type": "code",
   "execution_count": 116,
   "id": "aa64c653",
   "metadata": {},
   "outputs": [
    {
     "data": {
      "image/png": "[encoded data removed]",
      "text/plain": [
       "<Figure size 432x288 with 1 Axes>"
      ]
     },
     "metadata": {
      "needs_background": "light"
     },
     "output_type": "display_data"
    }
   ],
   "source": [
    "data = np.array([[[1,-2],+1],\n",
    "       [[-1,2],-1],\n",
    "       [[-0.12,0.52],1],\n",
    "       [[0.05,-0.48],-1]],dtype=object)\n",
    "\n",
    "data1 = np.array([p[0] for p in data if p[1]>0])\n",
    "data2 = np.array([p[0] for p in data if p[1]<0])\n",
    "\n",
    "matplotlib.pyplot.plot([-1,1],[3,-3],'r', data1[::,0], data1[::,1],'ko',  data2[::,0], data2[::,1],'ro');"
   ]
  },
  {
   "cell_type": "markdown",
   "id": "99373c5b",
   "metadata": {},
   "source": [
    "Find the correct label for the following random dataset:\n",
    "\n",
    "dataset = np.random.randn(100,2)\n",
    "\n",
    "using scipy.optimize.minimize and implementing the line search method with the steepest descend direction and constant value of the step-length and the line search method with the backtraking approach for the computation of the step-length at each iteration. Compare the results of the three methods.\n",
    "\n",
    "(For the theory realted to this exercise see VM_Lecture05_01_22, 08_31_Methods_for_NonlinearSystems__Perceptron.pdf, section 3.1 of the book Numerical Optimization by Jorge Nocedal and  Stephen Wright and chapter 1 and first part of chapter 2 2 of the book Nikhil Buduma, Nicholas Locascio - Fundamentals of Deep Learning_ Designing Next-Generation Machine Intelligence Algorithms (2017, O’Reilly Media)  )"
   ]
  }
 ],
 "metadata": {
  "kernelspec": {
   "display_name": "Python 3",
   "language": "python",
   "name": "python3"
  },
  "language_info": {
   "codemirror_mode": {
    "name": "ipython",
    "version": 3
   },
   "file_extension": ".py",
   "mimetype": "text/x-python",
   "name": "python",
   "nbconvert_exporter": "python",
   "pygments_lexer": "ipython3",
   "version": "3.8.8"
  }
 },
 "nbformat": 4,
 "nbformat_minor": 5
}
