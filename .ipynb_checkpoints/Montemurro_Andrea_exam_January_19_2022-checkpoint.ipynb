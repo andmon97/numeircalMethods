{
 "cells": [
  {
   "cell_type": "markdown",
   "id": "3b20bc2c",
   "metadata": {},
   "source": [
    "# 1 Text mining\n",
    "\n",
    "Let us consider the following document-term matrix $A$"
   ]
  },
  {
   "cell_type": "code",
   "execution_count": 1,
   "id": "c6c53754",
   "metadata": {},
   "outputs": [
    {
     "name": "stdout",
     "output_type": "stream",
     "text": [
      "vectorizer.vocabulary_: {'the': 43, 'graph': 17, 'of': 29, 'function': 13, 'in': 21, 'two': 45, 'variable': 47, 'is': 22, 'surface': 41, '3d': 0, 'space': 39, 'partial': 33, 'derivative': 9, 'ordinary': 32, 'gradient': 16, 'variables': 48, 'contains': 5, 'its': 23, 'derivatives': 10, 'are': 3, 'slope': 38, 'tangent': 42, 'plane': 34, 'linear': 24, 'approximation': 2, 'if': 20, 'convex': 7, 'then': 44, 'any': 1, 'local': 25, 'minimizer': 28, 'global': 14, 'steepest': 40, 'descent': 11, 'method': 27, 'uses': 46, 'opposite': 30, 'direction': 12, 'globally': 15, 'convergent': 6, 'wolfe': 49, 'condition': 4, 'holds': 19, 'hessian': 18, 'matrix': 26, 'second': 36, 'order': 31, 'positive': 35, 'semi': 37, 'definite': 8}\n",
      "(50, 10)\n"
     ]
    }
   ],
   "source": [
    "import sklearn\n",
    "import numpy as np\n",
    "import sklearn.feature_extraction\n",
    "\n",
    "np.set_printoptions(suppress=True)\n",
    "\n",
    "vectorizer = sklearn.feature_extraction.text.CountVectorizer(min_df=1)\n",
    "\n",
    "documents = [\n",
    "    'The graph of a function in two variable is a surface in the 3D space',\n",
    "    'The partial derivative is the ordinary derivative of a partial function',\n",
    "    'The gradient of a two-variables function contains its partial derivatives',\n",
    "    'The partial derivatives are the slope of the tangent plane',\n",
    "    'The tangent plane is the linear approximation of a surface',\n",
    "    'If a function is convex then any local minimizer is a global minimizer',\n",
    "    'A steepest descent method uses the opposite of the gradient direction',\n",
    "    'The steepest descent method is globally convergent if the Wolfe condition holds',\n",
    "    'The Hessian matrix is the matrix of second-order partial derivatives',\n",
    "    'The Hessian matrix of a convex function is positive semi-definite'\n",
    "]\n",
    "\n",
    "X = vectorizer.fit_transform(documents).toarray()\n",
    "print('vectorizer.vocabulary_: {0}'.format(vectorizer.vocabulary_))\n",
    "\n",
    "A = X.T\n",
    "print(A.shape)"
   ]
  },
  {
   "cell_type": "markdown",
   "id": "50fd3e5e",
   "metadata": {},
   "source": [
    "First do a bit of data preprocessing to have better results. In particular we can remove the stop words (which are unnecessary for the query), and use only the stems of the word in each document.\n",
    "\n",
    "Look at the shape of the new matrix: it is of lower dimnension because of the stop words removal."
   ]
  },
  {
   "cell_type": "code",
   "execution_count": 2,
   "id": "f92b9c73",
   "metadata": {},
   "outputs": [
    {
     "name": "stdout",
     "output_type": "stream",
     "text": [
      "\n",
      " List of documents without stop words\n",
      "  ['The graph function variable surface 3D space', 'The partial derivative ordinary derivative partial function', 'The gradient two-variables function contains partial derivatives', 'The partial derivatives slope tangent plane', 'The tangent plane linear approximation surface', 'If function convex local minimizer global minimizer', 'A steepest descent method uses opposite gradient direction', 'The steepest descent method globally convergent Wolfe condition holds', 'The Hessian matrix matrix second-order partial derivatives', 'The Hessian matrix convex function positive semi-definite']\n",
      "\n",
      " List of documents after stemming \n",
      "  ['the graph function variabl surfac 3d space', 'the partial deriv ordinari deriv partial function', 'the gradient two-vari function contain partial deriv', 'the partial deriv slope tangent plane', 'the tangent plane linear approxim surfac', 'if function convex local minim global minim', 'a steepest descent method us opposit gradient direct', 'the steepest descent method global converg wolf condit hold', 'the hessian matrix matrix second-ord partial deriv', 'the hessian matrix convex function posit semi-definit']\n",
      "vectorizer.vocabulary_: {'the': 35, 'graph': 13, 'function': 10, 'variabl': 39, 'surfac': 33, '3d': 0, 'space': 31, 'partial': 25, 'deriv': 7, 'ordinari': 24, 'gradient': 12, 'two': 36, 'vari': 38, 'contain': 3, 'slope': 30, 'tangent': 34, 'plane': 26, 'linear': 17, 'approxim': 1, 'if': 16, 'convex': 5, 'local': 18, 'minim': 21, 'global': 11, 'steepest': 32, 'descent': 8, 'method': 20, 'us': 37, 'opposit': 22, 'direct': 9, 'converg': 4, 'wolf': 40, 'condit': 2, 'hold': 15, 'hessian': 14, 'matrix': 19, 'second': 28, 'ord': 23, 'posit': 27, 'semi': 29, 'definit': 6}\n",
      "(41, 10)\n"
     ]
    }
   ],
   "source": [
    "# import utils from the gensim library\n",
    "from gensim.parsing.preprocessing import remove_stopwords, stem_text\n",
    "\n",
    "L = []\n",
    "for i in range(len(documents)):\n",
    "    # stop words remove\n",
    "    L.append(remove_stopwords(documents[i]))\n",
    "print('\\n List of documents without stop words\\n ', L)\n",
    "\n",
    "L_final = []\n",
    "for i in range(len(documents)):\n",
    "    # perform the stemming\n",
    "    L_final.append(stem_text(L[i]))\n",
    "print('\\n List of documents after stemming \\n ', L_final)\n",
    "\n",
    "#\n",
    "Y = vectorizer.fit_transform(L_final).toarray()\n",
    "print('vectorizer.vocabulary_: {0}'.format(vectorizer.vocabulary_))\n",
    "A = Y.T\n",
    "print(A.shape)\n"
   ]
  },
  {
   "cell_type": "markdown",
   "id": "575d9508",
   "metadata": {},
   "source": [
    "Given the following *query*: \"convex function\""
   ]
  },
  {
   "cell_type": "code",
   "execution_count": 3,
   "id": "ba9d4c3d",
   "metadata": {},
   "outputs": [
    {
     "name": "stdout",
     "output_type": "stream",
     "text": [
      "(41,)\n"
     ]
    }
   ],
   "source": [
    "#query vector\n",
    "query1text = ['convex function']\n",
    "query_stem = query1text[0]\n",
    "query1 = []\n",
    "query1.append(query_stem)\n",
    "query1 = vectorizer.transform(query1).toarray()\n",
    "print(query1[0].shape)"
   ]
  },
  {
   "cell_type": "markdown",
   "id": "b9042597",
   "metadata": {},
   "source": [
    "To search for the relevant documents, compute the cosine similarity between the query vector and the documents vectors.\n",
    "Compare the method using the cosine similarity with the optimized method using a low rank approximation computed with the QR decomposition and  the reduced rank vector model using the singular value decomposition called Latent semantic indexing. (For the theory see the article in the file section of the Teams channel named vectorspacemodelxIR_SIAMreview1999.pdf, the lectures   6_Cosine_LinearCorrelation, RM_Lecture10_12_21, 08_31_projectors.pdf, Example 5.12.4 of the Meyer book)"
   ]
  },
  {
   "cell_type": "code",
   "execution_count": 4,
   "id": "e41a30ad",
   "metadata": {},
   "outputs": [
    {
     "name": "stdout",
     "output_type": "stream",
     "text": [
      "Similarity query documents:\n",
      " [0.26726124 0.21320072 0.25       0.         0.         0.47140452\n",
      " 0.         0.         0.         0.5       ]\n",
      "Sorted relevant docs: [9 5 0 2 1 3 4 6 7 8]\n"
     ]
    }
   ],
   "source": [
    "import scipy.linalg as spl\n",
    "\n",
    "(m,n)=A.shape\n",
    "# calculate the euclidean norms of each column of A\n",
    "eu = np.array(np.zeros(n))\n",
    "for i in range(n):\n",
    "    eu[i] = np.linalg.norm(A[:,i],2)\n",
    "\n",
    "# normalize columns of matrix A in respect of norm of selected column\n",
    "# (in this way we don't need to normalize the documents when calculating cosine similarity)\n",
    "As = np.dot(A,np.diag(1/eu))\n",
    "\n",
    "# cos of the angles:  cos(teta) = x^T y / (||x||*||y||)\n",
    "similarity = np.dot(As.T,query1[0])/np.linalg.norm(query1[0],2) #we don't put the norm of the i-th column, since A is already normalized\n",
    "print(\"Similarity query documents:\\n\", similarity.T)\n",
    "print(\"Sorted relevant docs:\", np.argsort(-similarity.T)[:])\n"
   ]
  },
  {
   "cell_type": "markdown",
   "id": "f7db5c8d",
   "metadata": {},
   "source": [
    "## Low Rank Approximation with QR\n",
    "\n",
    "First, let us compute the **QR factorization** on the original matrix."
   ]
  },
  {
   "cell_type": "code",
   "execution_count": 5,
   "id": "552a995e",
   "metadata": {},
   "outputs": [
    {
     "name": "stdout",
     "output_type": "stream",
     "text": [
      "Q\n",
      "(41, 10)\n",
      "R\n",
      "(10, 10)\n",
      "P\n",
      "(10,)\n",
      "Rank of the original matrix:  10\n"
     ]
    }
   ],
   "source": [
    "[Q,R,P]=spl.qr(As,mode = 'economic',pivoting=True)  # QR factorization with pivoting \n",
    "# In general, it is necessary to use column pivoting during the QR factorization to ensure that the zeros appear at the bottom of the matrix AP = QR\n",
    "print('Q')\n",
    "print(Q.shape)\n",
    "print('R')\n",
    "print(R.shape)\n",
    "print('P')\n",
    "print(P.shape)\n",
    "\n",
    "import numpy.linalg as npl\n",
    "print(\"Rank of the original matrix: \",npl.matrix_rank(As))"
   ]
  },
  {
   "cell_type": "markdown",
   "id": "16656f1c",
   "metadata": {},
   "source": [
    "From the computation above, we can observ that the matrix Q has only 41 rows instead of 50 (because of the stop word remove).\n",
    "Q and R are of the correct dimensions, and the rank of our matrix is 10, so is a full rank matrix."
   ]
  },
  {
   "cell_type": "code",
   "execution_count": 6,
   "id": "b03df38f",
   "metadata": {},
   "outputs": [
    {
     "name": "stdout",
     "output_type": "stream",
     "text": [
      "Similarity query-documents:\n",
      " [0.26726124 0.21320072 0.25       0.         0.         0.47140452\n",
      " 0.         0.         0.         0.5       ]\n",
      "Sorted relevant documents: \n",
      " [9 5 0 2 1 7 4 8 3 6]\n"
     ]
    }
   ],
   "source": [
    "QA=np.copy(Q[:,0:npl.matrix_rank(As)])\n",
    "# QA basis for the column space of A\n",
    "RA=np.copy(R[0:npl.matrix_rank(As),:])\n",
    "# In general, it is necessary to use column pivoting during the QR factorization to ensure that the zeros appear  at the bottom of the matrix AP = QR\n",
    "A_r=np.dot(QA,RA)[:,np.argsort(P)]\n",
    "      \n",
    "# cos of the angles:  cos(teta) = x^T y / (||x||*||y||)\n",
    "sim=np.dot(A_r.T,query1[0])/np.linalg.norm(query1[0],2) #we don't put the norm of the i-th column\n",
    "print(\"Similarity query-documents:\\n\", sim.T)\n",
    "print(\"Sorted relevant documents: \\n\", np.argsort(-sim.T)[:])"
   ]
  },
  {
   "cell_type": "markdown",
   "id": "50f6c290",
   "metadata": {},
   "source": [
    "We can see that we have the same result wrt the original matrix.\n",
    "\n",
    "### Rank Reduction\n",
    "\n",
    "For our purposes, it could be better to have less information in the term document matrix because we want to query in a *\"less-noise space\"*, in this way the relevant documents for our query will gain relevance.\n",
    "\n",
    "As descibed in the article *\"Matrices, Vector Spaces, and Information Retrieval\"*, the QR factorization with pivoting tends to separate the large and small parts of the matrix, pushing the larger entries toward the upper left corner of the matrix and the smaller ones toward the lower right.\n",
    "So, we can choose a set of tollerances that describes relative changes by deleting less informative part from R that makes the same-sized change in A (our therm document matrix) and then compute the cosine similarity wrt to this lower rank matrices.\n",
    "\n",
    "Let us see what happen.\n",
    "\n"
   ]
  },
  {
   "cell_type": "code",
   "execution_count": 7,
   "id": "7d2040ec",
   "metadata": {},
   "outputs": [
    {
     "name": "stdout",
     "output_type": "stream",
     "text": [
      "Tolerance = 0.95      Columns (rank reduction) = 4 / 10\n",
      "Similarity query documents:\n",
      " [0.26726124 0.07341622 0.09573003 0.         0.05010064 0.47140452\n",
      " 0.         0.07207424 0.01293593 0.1577135 ]\n",
      "Sorted relevant docs: [5 0 9 2 1 7 4 8 3 6]\n",
      "-++-++-++-++-++-++-++-++-++-++-++-++-++-++-++-++-++-++-++-++-++-++-++-++-++-++-++-++-++\n",
      "Tolerance = 0.92      Columns (rank reduction) = 5 / 10\n",
      "Similarity query documents:\n",
      " [0.26726124 0.10223905 0.14191581 0.         0.05803029 0.47140452\n",
      " 0.         0.09225954 0.16071189 0.5       ]\n",
      "Sorted relevant docs: [9 5 0 8 2 1 7 4 3 6]\n",
      "-++-++-++-++-++-++-++-++-++-++-++-++-++-++-++-++-++-++-++-++-++-++-++-++-++-++-++-++-++\n",
      "Tolerance = 0.9      Columns (rank reduction) = 6 / 10\n",
      "Similarity query documents:\n",
      " [0.26726124 0.10338985 0.14522601 0.         0.05294343 0.47140452\n",
      " 0.         0.         0.15790815 0.5       ]\n",
      "Sorted relevant docs: [9 5 0 8 2 1 4 7 3 6]\n",
      "-++-++-++-++-++-++-++-++-++-++-++-++-++-++-++-++-++-++-++-++-++-++-++-++-++-++-++-++-++\n",
      "Tolerance = 0.82      Columns (rank reduction) = 7 / 10\n",
      "Similarity query documents:\n",
      " [0.26726124 0.15055884 0.25       0.         0.03595467 0.47140452\n",
      " 0.         0.         0.17317308 0.5       ]\n",
      "Sorted relevant docs: [9 5 0 2 8 1 4 7 3 6]\n",
      "-++-++-++-++-++-++-++-++-++-++-++-++-++-++-++-++-++-++-++-++-++-++-++-++-++-++-++-++-++\n",
      "Tolerance = 0.7      Columns (rank reduction) = 9 / 10\n",
      "Similarity query documents:\n",
      " [0.26726124 0.12313359 0.25       0.         0.         0.47140452\n",
      " 0.         0.         0.         0.5       ]\n",
      "Sorted relevant docs: [9 5 0 2 1 7 4 8 3 6]\n",
      "-++-++-++-++-++-++-++-++-++-++-++-++-++-++-++-++-++-++-++-++-++-++-++-++-++-++-++-++-++\n",
      "Tolerance = 0.6      Columns (rank reduction) = 10 / 10\n",
      "Similarity query documents:\n",
      " [0.26726124 0.21320072 0.25       0.         0.         0.47140452\n",
      " 0.         0.         0.         0.5       ]\n",
      "Sorted relevant docs: [9 5 0 2 1 7 4 8 3 6]\n",
      "-++-++-++-++-++-++-++-++-++-++-++-++-++-++-++-++-++-++-++-++-++-++-++-++-++-++-++-++-++\n"
     ]
    }
   ],
   "source": [
    "#extract the diagonal of R\n",
    "Rdiag = np.abs(np.diag(R))\n",
    "# Normalize each diagonal element wrt its max\n",
    "Rdiag = Rdiag/Rdiag.max() \n",
    "\n",
    "# choose a set of tolerances\n",
    "tols = [.95, .92, .9, .82, .7, .6,]\n",
    "\n",
    "# array that contains the number of columns of the different low rank approximations\n",
    "nc_list = [] \n",
    "\n",
    "for tol in tols:\n",
    "    #number of values from diagonal greater than tolerance\n",
    "    nc=0    \n",
    "    for i in range(0,Rdiag.shape[0]):\n",
    "        if(Rdiag[i]>tol):\n",
    "            nc+=1\n",
    "    nc_list.append(nc)  #save the nc value\n",
    "\n",
    "    #reducing the matrices according to the computed number of columns\n",
    "    QA=np.copy(Q[:,0:nc]) #copying first nc columns of Qimg\n",
    "    RA=np.copy(R[0:nc,:]) #copying first nc rows of Rimg\n",
    "\n",
    "    #Use this approximation to compute again the cosine similarity:\n",
    "    #calculate the approximate matrix by calculating: A = Q*R*P^T\n",
    "    print(\"Tolerance =\",tol , \"     Columns (rank reduction) =\", nc, \"/\", Rdiag.size)\n",
    "    A_r=np.dot(QA,RA)[:,np.argsort(P)]\n",
    "\n",
    "    # cos of the angles:  cos(teta) = x^T y / (||x||*||y||)\n",
    "    sim=np.dot(A_r.T,query1[0])/np.linalg.norm(query1[0],2) #we don't put the norm of the i-th column\n",
    "\n",
    "    print(\"Similarity query documents:\\n\", sim.T)\n",
    "    print(\"Sorted relevant docs:\", np.argsort(-sim.T)[:])\n",
    "    print(\"-++-++-++-++-++-++-++-++-++-++-++-++-++-++-++-++-++-++-++-++-++-++-++-++-++-++-++-++-++\")\n",
    "\n"
   ]
  },
  {
   "cell_type": "markdown",
   "id": "f85eedf9",
   "metadata": {},
   "source": [
    "From the following table we can see how the rank of the matrix changes with respect to chosen tolerances.\n",
    "\n",
    "| Tolerance | Number of Columns |\n",
    "| ------ | ------ |\n",
    "| 0.95 | 4 of 10 |\n",
    "| 0.92 | 5 of 10 |\n",
    "| 0.9 | 6 of 10  |\n",
    "| 0.82 | 7 of 10 |\n",
    "| 0.7 | 9 of 10  |\n",
    "| 0.6 | 10 of 10 |\n",
    "\n",
    "Note that the tolerances shown above are **arbitrary** and were chosen with a *trial and error approach*: by choosing the tolerance we don't know in advance how many columns we are going to take.\n",
    "\n",
    "But, the most important thing is how the computation of the similarity changes, and we can se that:\n",
    "- With a lower number of columns the similarity scores changes;\n",
    "- With the highest value of tolerance (wich give us only 4 columns) also the result change because the most relevant documents change, but it seems to be not very good (because the document 0 is very different);\n",
    "- Probably the best choice is to have a minimum of 5 columns (but we have a very simple query!).\n",
    "\n",
    "Just to have a ¨better view¨ of what is going on, we can try another query.\n",
    "Let us see the result for the following query: *¨steepest descent convergent¨*."
   ]
  },
  {
   "cell_type": "code",
   "execution_count": 8,
   "id": "0361ada3",
   "metadata": {},
   "outputs": [
    {
     "name": "stdout",
     "output_type": "stream",
     "text": [
      "Tolerance = 0.95      Columns (rank reduction) = 4 / 10\n",
      "Similarity query documents:\n",
      " [0.         0.         0.07142857 0.         0.         0.\n",
      " 0.53452248 0.20203051 0.         0.        ]\n",
      "Sorted relevant docs: [6 7 2 0 1 3 4 5 8 9]\n",
      "-++-++-++-++-++-++-++-++-++-++-++-++-++-++-++-++-++-++-++-++-++-++-++-++-++-++-++-++-++\n",
      "Tolerance = 0.92      Columns (rank reduction) = 5 / 10\n",
      "Similarity query documents:\n",
      " [0.         0.         0.07142857 0.         0.         0.\n",
      " 0.53452248 0.20203051 0.         0.        ]\n",
      "Sorted relevant docs: [6 7 2 0 1 3 4 5 8 9]\n",
      "-++-++-++-++-++-++-++-++-++-++-++-++-++-++-++-++-++-++-++-++-++-++-++-++-++-++-++-++-++\n",
      "Tolerance = 0.9      Columns (rank reduction) = 6 / 10\n",
      "Similarity query documents:\n",
      " [ 0.         -0.00336004  0.06176365  0.          0.01485231  0.\n",
      "  0.53452248  0.47140452  0.00818619  0.        ]\n",
      "Sorted relevant docs: [6 7 2 4 8 0 3 5 9 1]\n",
      "-++-++-++-++-++-++-++-++-++-++-++-++-++-++-++-++-++-++-++-++-++-++-++-++-++-++-++-++-++\n",
      "Tolerance = 0.82      Columns (rank reduction) = 7 / 10\n",
      "Similarity query documents:\n",
      " [ 0.         -0.03116588  0.          0.          0.02486708  0.\n",
      "  0.53452248  0.47140452 -0.00081239  0.        ]\n",
      "Sorted relevant docs: [6 7 4 2 0 3 5 9 8 1]\n",
      "-++-++-++-++-++-++-++-++-++-++-++-++-++-++-++-++-++-++-++-++-++-++-++-++-++-++-++-++-++\n",
      "Tolerance = 0.7      Columns (rank reduction) = 9 / 10\n",
      "Similarity query documents:\n",
      " [ 0.         -0.0255619   0.          0.         -0.          0.\n",
      "  0.53452248  0.47140452 -0.          0.        ]\n",
      "Sorted relevant docs: [6 7 2 0 3 5 9 4 8 1]\n",
      "-++-++-++-++-++-++-++-++-++-++-++-++-++-++-++-++-++-++-++-++-++-++-++-++-++-++-++-++-++\n",
      "Tolerance = 0.6      Columns (rank reduction) = 10 / 10\n",
      "Similarity query documents:\n",
      " [ 0.         -0.          0.          0.         -0.          0.\n",
      "  0.53452248  0.47140452 -0.          0.        ]\n",
      "Sorted relevant docs: [6 7 2 0 3 5 9 4 8 1]\n",
      "-++-++-++-++-++-++-++-++-++-++-++-++-++-++-++-++-++-++-++-++-++-++-++-++-++-++-++-++-++\n"
     ]
    }
   ],
   "source": [
    "#query vector\n",
    "query2text = ['steepest descent convergent']\n",
    "query_stem2 = query2text[0]\n",
    "query2 = []\n",
    "query2.append(query_stem2)\n",
    "query2 = vectorizer.transform(query2).toarray()\n",
    "# array that contains the number of columns of the different low rank approximations\n",
    "nc_list2 = [] \n",
    "\n",
    "for tol in tols:\n",
    "    nc=0    #number of values from diagonal greater than tolerance\n",
    "    for i in range(0,Rdiag.shape[0]):\n",
    "        if(Rdiag[i]>tol):\n",
    "            nc+=1\n",
    "    nc_list2.append(nc)  #save the nc value\n",
    "\n",
    "    #reducing the matrices\n",
    "    QA=np.copy(Q[:,0:nc]) #copying first nc columns of Qimg\n",
    "    RA=np.copy(R[0:nc,:]) #copying first nc rows of Rimg\n",
    "\n",
    "    #Use this approximation to compute again the cosine similarity:\n",
    "    #calculate the approximate matrix by calculating: A = Q*R*P^T\n",
    "    print(\"Tolerance =\",tol , \"     Columns (rank reduction) =\", nc, \"/\", Rdiag.size)\n",
    "    A_r=np.dot(QA,RA)[:,np.argsort(P)]\n",
    "\n",
    "    # cos of the angles:  cos(teta) = x^T y / (||x||*||y||)\n",
    "    sim=np.dot(A_r.T,query2[0])/np.linalg.norm(query2[0],2) #we don't put the norm of the i-th column\n",
    "\n",
    "    print(\"Similarity query documents:\\n\", sim.T)\n",
    "    print(\"Sorted relevant docs:\", np.argsort(-sim.T)[:])\n",
    "    print(\"-++-++-++-++-++-++-++-++-++-++-++-++-++-++-++-++-++-++-++-++-++-++-++-++-++-++-++-++-++\")"
   ]
  },
  {
   "cell_type": "markdown",
   "id": "2f42fe78",
   "metadata": {},
   "source": [
    "## SVD (Latent Semantic Index)\n",
    "\n",
    "We now factorize the term document matrix using the SVD decomposition instead of the QR factorization.\n",
    "The singular value decomposition of the term document matrix is:\n",
    "\n",
    "$A = U\\times \\Sigma \\times V^T$ \n",
    "with   \n",
    "$U$, $V$ orhogonal matrices  and $\\Sigma$ diagonal matrix.\n"
   ]
  },
  {
   "cell_type": "markdown",
   "id": "dd02de56",
   "metadata": {},
   "source": [
    "\n",
    "We need to build Sv (our $\\Sigma$) diagonal using the singual values returned by svd(A) on the diagonal and 0 otherwise."
   ]
  },
  {
   "cell_type": "code",
   "execution_count": 9,
   "id": "a5ca86e7",
   "metadata": {},
   "outputs": [],
   "source": [
    "U, Sv, Vt = np.linalg.svd(A)      #A = U*S*V^T\n",
    "# Sv is a vector containing the singular values, we put the element in a diagonal matrix S\n",
    "S = np.zeros((m,n),'float64')   #create a matrix with all zeros of size m and n\n",
    "S[0:n,0:n] = np.diag(Sv)        #populate the diagonal values of S, we use n as the lower dimension\n",
    "V = Vt.T                        #calculate transpose of V   "
   ]
  },
  {
   "cell_type": "markdown",
   "id": "d01b1d41",
   "metadata": {},
   "source": [
    "Then we use the nc computed in the first part of the exercise, to reduce the $U$, $\\Sigma$ and $V$ matrices. So, let $U_k$, $\\Sigma_k$ $V_k$ be the reduced matrices.\n",
    "\n",
    "Let $q$ be the query vector.\n",
    "\n",
    "We can precompute the product $\\Sigma_k \\times V_k^T$, in order to optimize the calculus of the similarity, as the norm of this product which will go on the denominator.\n",
    "\n",
    "The cosine similarity is: \n",
    "$\\cos(\\theta) = \\frac {s_j^T \\times  (U_k^T \\times  q)} {( ||s_j|| \\times  ||q||)}$\n",
    "\n",
    "We then extract the more relevant document, sorted by relevance:"
   ]
  },
  {
   "cell_type": "code",
   "execution_count": 10,
   "id": "80e3a806",
   "metadata": {},
   "outputs": [
    {
     "name": "stdout",
     "output_type": "stream",
     "text": [
      "numb col = 4\n",
      "Similarity query documents:\n",
      " [ 0.52897828  0.17983019  0.24106749  0.0758457   0.19138604  0.5864028\n",
      " -0.10742561  0.05285539  0.11356314  0.4082813 ]\n",
      "Sorted relevant docs: [5 0 9 2 4 1 8 3 7 6]\n",
      "-++-++-++-++-++-++-++-++-++-++-++-++-++-++-++-++-++-++-++-++-++-++-++-++-++-++-++-++-++\n",
      "numb col = 5\n",
      "Similarity query documents:\n",
      " [ 0.32038301  0.18662535  0.24626636  0.05996216  0.0439136   0.58084683\n",
      " -0.08802393  0.05270416  0.11931558  0.40006353]\n",
      "Sorted relevant docs: [5 9 0 2 1 8 3 7 4 6]\n",
      "-++-++-++-++-++-++-++-++-++-++-++-++-++-++-++-++-++-++-++-++-++-++-++-++-++-++-++-++-++\n",
      "numb col = 6\n",
      "Similarity query documents:\n",
      " [ 0.37183174  0.18523754  0.29688317 -0.02572205 -0.02694311  0.50940225\n",
      " -0.0225428   0.0116531   0.09458597  0.42880415]\n",
      "Sorted relevant docs: [5 9 0 2 1 8 7 6 3 4]\n",
      "-++-++-++-++-++-++-++-++-++-++-++-++-++-++-++-++-++-++-++-++-++-++-++-++-++-++-++-++-++\n",
      "numb col = 7\n",
      "Similarity query documents:\n",
      " [ 0.34042603  0.17296388  0.30358878 -0.01242525 -0.00033594  0.51398941\n",
      "  0.01797898 -0.01692278  0.0929499   0.4349227 ]\n",
      "Sorted relevant docs: [5 9 0 2 1 8 6 4 3 7]\n",
      "-++-++-++-++-++-++-++-++-++-++-++-++-++-++-++-++-++-++-++-++-++-++-++-++-++-++-++-++-++\n",
      "numb col = 9\n",
      "Similarity query documents:\n",
      " [ 0.27289291  0.20658246  0.25204292  0.02364162 -0.01542221  0.47192732\n",
      " -0.00024965 -0.00020276 -0.00009956  0.50044597]\n",
      "Sorted relevant docs: [9 5 0 2 1 3 8 7 6 4]\n",
      "-++-++-++-++-++-++-++-++-++-++-++-++-++-++-++-++-++-++-++-++-++-++-++-++-++-++-++-++-++\n",
      "numb col = 10\n",
      "Similarity query documents:\n",
      " [ 0.26726124  0.21320072  0.25        0.          0.          0.47140452\n",
      " -0.         -0.         -0.          0.5       ]\n",
      "Sorted relevant docs: [9 5 0 2 1 4 3 6 8 7]\n",
      "-++-++-++-++-++-++-++-++-++-++-++-++-++-++-++-++-++-++-++-++-++-++-++-++-++-++-++-++-++\n"
     ]
    }
   ],
   "source": [
    "for nc in nc_list:\n",
    "    #we use the nc calculated in the first part\n",
    "    print(\"Tolerance =\",tol , \"     Columns (rank reduction) =\", nc, \"/\", Rdiag.size)\n",
    "    \n",
    "    #reducing the matrices:\n",
    "    UA = np.copy(U[:,0:nc])    #copying first nc columns of U\n",
    "    SA = np.copy(S[0:nc,0:nc]) #copying first nc rows and columns of S\n",
    "    VA = np.copy(V[:,0:nc])    #copying first nc columns of V\n",
    "\n",
    "    e = np.eye(n)\n",
    "\n",
    "    SV = []\n",
    "    for j in range(n):\n",
    "        SV.append(np.dot(SA,np.dot(VA.T,e[j])))  # we compute in advance the product SA*VA^T, after we'll compute the product with Uk\n",
    "        \n",
    "    # we calculate the norm of s (we'll put it on the denominator of the cosine similarity)\n",
    "    SV_norm=[]\n",
    "    for j in range(n):\n",
    "        SV_norm.append(np.linalg.norm(SV[j],2))\n",
    "\n",
    "    sim=[]\n",
    "    for j in range(n):\n",
    "      sim.append( (  np.dot(SV[j].T,np.dot(UA.T,query1[0]))  / (SV_norm[j]*np.linalg.norm(query1[0],2)) )  .item() )\n",
    "    similarity = np.array(sim)\n",
    "\n",
    "    print(\"Similarity query documents:\\n\", similarity)\n",
    "    print(\"Sorted relevant docs:\", np.argsort(-similarity)[:])\n",
    "    print(\"-++-++-++-++-++-++-++-++-++-++-++-++-++-++-++-++-++-++-++-++-++-++-++-++-++-++-++-++-++\")"
   ]
  },
  {
   "cell_type": "markdown",
   "id": "085a5fbb",
   "metadata": {},
   "source": [
    "We can see that with this approach, the SVD performs in a similar way wrt to the QR, but the more relevant documents have a very similar importance.\n",
    "\n",
    "Although the previous results seems similar (and good with at least 5 columns), we can use a theoretical property to choose the number of columns in a good way.\n",
    "In fact, we can use the theorem by Eckart-Young to choose the best approximation of the original matrix.\n",
    "\n",
    "According to the theorem, the minimum approximation is given by:\n",
    "\n",
    "$|| A - A_k ||_2 = \\sigma_{k+1}$"
   ]
  },
  {
   "cell_type": "code",
   "execution_count": 11,
   "id": "87acd0be",
   "metadata": {},
   "outputs": [
    {
     "name": "stdout",
     "output_type": "stream",
     "text": [
      "The number of non-zero singular values is:  10\n"
     ]
    }
   ],
   "source": [
    "# we count and print the number of non-zero singular values\n",
    "print(\"The number of non-zero singular values is: \", np.count_nonzero(Sv))"
   ]
  },
  {
   "cell_type": "markdown",
   "id": "5e1df258",
   "metadata": {},
   "source": [
    "We don't have zero singular values, but we can choose what is the best approximation by looking at this error that came from the rank reduction approximation\n",
    "It is computed with the prevoius theorem.\n",
    "\n",
    "$  Err_{reduction} = \\frac {(|| A - A_k ||_2)}{|| A ||_2} = \\frac {\\sigma_{k+1}} { || A ||_2}$\n"
   ]
  },
  {
   "cell_type": "code",
   "execution_count": 27,
   "id": "b6fe0bf1",
   "metadata": {},
   "outputs": [
    {
     "name": "stdout",
     "output_type": "stream",
     "text": [
      "Error with 9 columns is 0.1406069420661159\n",
      "Error with 8 columns is 0.18951646511605655\n",
      "Error with 7 columns is 0.21502048025726983\n",
      "Error with 6 columns is 0.23957601923132144\n",
      "Error with 5 columns is 0.2670376394601248\n",
      "Error with 4 columns is 0.3099793503280016\n",
      "Error with 3 columns is 0.31854945121040884\n",
      "Error with 2 columns is 0.3478131937626249\n",
      "Error with 1 columns is 0.37280391727108836\n",
      "Error with 0 columns is 0.5584405890506642\n"
     ]
    }
   ],
   "source": [
    "nc = np.count_nonzero(Sv)-1\n",
    "for sigma in reversed(Sv):\n",
    "        rel_error = sigma/(npl.norm(A, ord=None))\n",
    "        print(f'Error with {nc} columns is {rel_error}')\n",
    "        nc-=1"
   ]
  },
  {
   "cell_type": "markdown",
   "id": "df535072",
   "metadata": {},
   "source": [
    "From the computatiion of the relative errors, we can see that the error at each step increases by about 3%. \n",
    "Probably the better choice is to stay below the 30% treshold, also because we saw that at this point there are some errors when we computed the cosine similarity."
   ]
  },
  {
   "attachments": {
    "PageRankExam.png": {
     "image/png": "[encoded data removed]"
    }
   },
   "cell_type": "markdown",
   "id": "1e3b2a78",
   "metadata": {},
   "source": [
    "# 2 Page Ranking\n",
    "\n",
    "Given the following simplified web model, first construct the hyperlink matrix and then construct the Google matrix to compute the page with the highest importance via the power-method\n",
    "\n",
    "\n",
    "<div>\n",
    "<img src=\"attachment:PageRankExam.png\" width=\"400\"/>\n",
    "</div>\n",
    "\n",
    "\n",
    "(For the theory related to this example look in File/Codice/Python/Power Method and Google Page Ranking.ipynb )"
   ]
  },
  {
   "cell_type": "markdown",
   "id": "574718ae",
   "metadata": {},
   "source": [
    "We notice that we have 6 web pages, but we also have a so called **dangling node**, which is **page 4**. \n",
    "\n",
    "- As first thing, we construct the *hyperlink matrix* H:\n",
    "\n",
    "$$\n",
    "H = \\left[\\begin{array}{ccccc}\n",
    "0& 1/2& 1/3& 0& 0& 1/2&\\\\\n",
    "1/3& 0& 0& 0& 0& 0&\\\\\n",
    "0& 1/2& 0& 0& 0& 0&\\\\\n",
    "0& 0& 1/3& 0& 1/2& 0&\\\\\n",
    "1/3& 0& 1/3& 0& 0& 1/2&\\\\\n",
    "1/3& 0& 0& 0& 1/2& 0&\\\\\n",
    "\\end{array}\\right]\n",
    "$$\n",
    "\n",
    "- As a second step we consruct the matrix S, where we replace every zero column vector in H with a vector having as entries $1/n$, with $n$ denoting the number of total web-pages\n",
    "\n",
    "$$\n",
    "S = \\left[\\begin{array}{ccccc}\n",
    "0& 1/2& 1/3& 1/6& 0& 1/2&\\\\\n",
    "1/3& 0& 0& 1/6& 0& 0&\\\\\n",
    "0& 1/2& 0& 1/6& 0& 0&\\\\\n",
    "0& 0& 1/3& 1/6& 1/2& 0&\\\\\n",
    "1/3& 0& 1/3& 1/6& 0& 1/2&\\\\\n",
    "1/3& 0& 0& 1/6& 1/2& 0&\\\\\n",
    "\\end{array}\\right]\n",
    "$$\n",
    "\n",
    "-In order to obtain a primitive and irreducible matrix, we need to construct the ***Google matrix*** G: \n",
    "\n",
    "$$\n",
    "G = \\alpha S +\\frac{(1-\\alpha)}{n}{\\bf 1}\n",
    "$$\n",
    "\n",
    "where $\\alpha$ is chosen as $0.85$ and ${\\bf 1}$ denotes a $n\\times n$ matrix filled with ones. "
   ]
  },
  {
   "cell_type": "code",
   "execution_count": 13,
   "id": "af824127",
   "metadata": {},
   "outputs": [
    {
     "name": "stdout",
     "output_type": "stream",
     "text": [
      "S matrix\n",
      "  [[0.         0.5        0.33333333 0.16666667 0.         0.5       ]\n",
      " [0.33333333 0.         0.         0.16666667 0.         0.        ]\n",
      " [0.         0.5        0.         0.16666667 0.         0.        ]\n",
      " [0.         0.         0.33333333 0.16666667 0.5        0.        ]\n",
      " [0.33333333 0.         0.33333333 0.16666667 0.         0.5       ]\n",
      " [0.33333333 0.         0.         0.16666667 0.5        0.        ]]\n",
      "\n",
      " Google matrix G \n",
      " [[0.025      0.45       0.30833333 0.16666667 0.025      0.45      ]\n",
      " [0.30833333 0.025      0.025      0.16666667 0.025      0.025     ]\n",
      " [0.025      0.45       0.025      0.16666667 0.025      0.025     ]\n",
      " [0.025      0.025      0.30833333 0.16666667 0.45       0.025     ]\n",
      " [0.30833333 0.025      0.30833333 0.16666667 0.025      0.45      ]\n",
      " [0.30833333 0.025      0.025      0.16666667 0.45       0.025     ]]\n"
     ]
    }
   ],
   "source": [
    "# Let us write the Hyperling matrix\n",
    "H = np.array([  [0, 1/2, 1/3, 0, 0, 1/2],\n",
    "                [1/3, 0, 0, 0, 0, 0],\n",
    "                [0, 1/2, 0, 0, 0, 0],\n",
    "                [0, 0, 1/3, 0 , 1/2, 0],\n",
    "                [1/3, 0, 1/3, 0, 0, 1/2],\n",
    "                [1/3, 0, 0, 0, 1/2, 0]] )\n",
    "\n",
    "# And the corresponding Google Matrix\n",
    "S = np.array([  [0, 1/2, 1/3, 1/6, 0, 1/2],\n",
    "                [1/3, 0, 0, 1/6, 0, 0],\n",
    "                [0, 1/2, 0, 1/6, 0, 0],\n",
    "                [0, 0, 1/3, 1/6 , 1/2, 0],\n",
    "                [1/3, 0, 1/3, 1/6, 0, 1/2],\n",
    "                [1/3, 0, 0, 1/6, 1/2, 0]] )\n",
    "\n",
    "print('S matrix\\n ', S)\n",
    "\n",
    "alpha = 0.85\n",
    "n = 6\n",
    "\n",
    "# Compute the Google Matrix\n",
    "G = alpha*S + (1-alpha)/n*np.ones([6,6])\n",
    "\n",
    "print('\\n Google matrix G \\n', G)"
   ]
  },
  {
   "cell_type": "markdown",
   "id": "e8491cab",
   "metadata": {},
   "source": [
    "To compute the importance of each web page, the Google Page Rank algorithm is used, which is an iterative algorithm that computes the eigenvector associated to the dominant eigenvalue of the Google Matrix. It is, in practice, (a simplified version of) the **Normalized Power Method**.\n",
    "\n",
    "Starting with a random vector $u_0$, a matrix $A$ which is our Google Matrix,\n",
    "\n",
    "$ y_0 = \\frac{u_0}{||u_0||}$\n",
    "\n",
    "$ u_{k} = y_0$\n",
    "\n",
    "And at each iteration we compute\n",
    "\n",
    "$ u_{k+1} = A \\times z_k$\n",
    "\n",
    "$ z_{k+1} = \\frac {u_{k+1}} { ||u_{k+1}||}$\n",
    "\n",
    "And at the last iteration $z_k$ will be the eigenvector associated to the dominant eigenvalue.\n"
   ]
  },
  {
   "cell_type": "code",
   "execution_count": 14,
   "id": "c18ef93f",
   "metadata": {},
   "outputs": [],
   "source": [
    "def Page_Rank(u0,A,tol,it_max):\n",
    "    n_it = 1\n",
    "    # Normalize to have a better stability\n",
    "    y0 = u0/np.linalg.norm(u0)\n",
    "    \n",
    "    # Compute this vector iteratively. This is the eigenvector\n",
    "    zk = np.dot(A,y0)/np.linalg.norm(np.dot(A,y0))\n",
    "   \n",
    "    #We use a list also to store the error estimates at every iteration\n",
    "    err = []\n",
    "    err.append(1)\n",
    "    \n",
    "    while((err[-1]>tol) & (n_it <it_max) ):\n",
    "        temp = zk\n",
    "        zk = np.dot(A,zk)/np.linalg.norm(np.dot(A,zk))\n",
    "        err.append(np.linalg.norm(temp-zk))\n",
    "        n_it = n_it+1\n",
    "        \n",
    "    return zk,n_it-1,err"
   ]
  },
  {
   "cell_type": "code",
   "execution_count": 15,
   "id": "27583ef6",
   "metadata": {},
   "outputs": [
    {
     "name": "stdout",
     "output_type": "stream",
     "text": [
      "Final computed zk \n",
      " [0.48676902 0.25306122 0.22270886 0.39802591 0.51712139 0.47283987]\n",
      "Total number of iteration 11\n",
      "Final accuracy 4.046026093701907e-05\n"
     ]
    }
   ],
   "source": [
    "z,n_it,err = Page_Rank(np.array([1,1,1,1,1,1]), G, 5e-5,100)\n",
    "print('Final computed zk \\n', z)\n",
    "print('Total number of iteration', n_it)\n",
    "print('Final accuracy',err[-1])"
   ]
  },
  {
   "cell_type": "markdown",
   "id": "e3d22fe8",
   "metadata": {},
   "source": [
    "We can see from the results of the computation that:\n",
    "- the algorithm performs very fast, with only 11 iterations given a tollerance of 4e-5\n",
    "- the most important page is the number 5.\n",
    "\n",
    "It is reasonable because it is linked with two pages and the two pages that transfer importance to it are the other two pages that have more importance in the net, that is pages 1 and 5 respectively."
   ]
  },
  {
   "cell_type": "markdown",
   "id": "f319b891",
   "metadata": {},
   "source": [
    "# 3 Perceptron\n",
    "\n",
    "Implement a model that describe a  classifier that divides the coordinate plane into two halves, the line in the test data  is y=-3*x. We want to learn a parameter vector such that our model make the right prediction. This model is called a  perceptron. The cost function minimizes the distance in the two norm. \n"
   ]
  },
  {
   "cell_type": "code",
   "execution_count": 16,
   "id": "12c50a64",
   "metadata": {},
   "outputs": [],
   "source": [
    "import numpy as np\n",
    "import scipy.optimize\n",
    "import matplotlib.pyplot"
   ]
  },
  {
   "cell_type": "markdown",
   "id": "e9081908",
   "metadata": {},
   "source": [
    "use the following neuron"
   ]
  },
  {
   "cell_type": "code",
   "execution_count": 17,
   "id": "bca856ff",
   "metadata": {},
   "outputs": [],
   "source": [
    "def phi(t): \n",
    "    return (1-np.exp(-t))/(1+np.exp(-t))\n",
    "\n",
    "    \n",
    "def neuron(w,b,x):\n",
    "    return phi(np.inner(w,x)+b)"
   ]
  },
  {
   "cell_type": "markdown",
   "id": "6dae859f",
   "metadata": {},
   "source": [
    "Train the neuron with the following  data"
   ]
  },
  {
   "cell_type": "code",
   "execution_count": 18,
   "id": "aa64c653",
   "metadata": {},
   "outputs": [
    {
     "data": {
      "text/plain": [
       "[<matplotlib.lines.Line2D at 0x7f69a083aee0>,\n",
       " <matplotlib.lines.Line2D at 0x7f69a083ad90>,\n",
       " <matplotlib.lines.Line2D at 0x7f69a083af10>]"
      ]
     },
     "execution_count": 18,
     "metadata": {},
     "output_type": "execute_result"
    },
    {
     "data": {
      "image/png": "[encoded data removed]",
      "text/plain": [
       "<Figure size 432x288 with 1 Axes>"
      ]
     },
     "metadata": {
      "needs_background": "light"
     },
     "output_type": "display_data"
    }
   ],
   "source": [
    "data = np.array([[[1,-2],+1],\n",
    "       [[-1,2],-1],\n",
    "       [[-0.12,0.52],1],\n",
    "       [[0.05,-0.48],-1]],dtype=object)\n",
    "\n",
    "data1 = np.array([p[0] for p in data if p[1]>0])\n",
    "data2 = np.array([p[0] for p in data if p[1]<0])\n",
    "\n",
    "matplotlib.pyplot.plot([-1,1],[3,-3],'r', data1[::,0], data1[::,1],'ko',  data2[::,0], data2[::,1],'ro')"
   ]
  },
  {
   "cell_type": "markdown",
   "id": "99373c5b",
   "metadata": {},
   "source": [
    "Find the correct label for the following random dataset:\n",
    "\n",
    "dataset = np.random.randn(100,2)\n",
    "\n",
    "using scipy.optimize.minimize and implementing the line search method with the steepest descend direction and constant value of the step-length and the line search method with the backtraking approach for the computation of the step-length at each iteration. Compare the results of the three methods.\n",
    "\n",
    "(For the theory realted to this exercise see VM_Lecture05_01_22, 08_31_Methods_for_NonlinearSystems__Perceptron.pdf, section 3.1 of the book Numerical Optimization by Jorge Nocedal and  Stephen Wright and chapter 1 and first part of chapter 2 2 of the book Nikhil Buduma, Nicholas Locascio - Fundamentals of Deep Learning_ Designing Next-Generation Machine Intelligence Algorithms (2017, O’Reilly Media)  )"
   ]
  },
  {
   "cell_type": "markdown",
   "id": "180ea842",
   "metadata": {},
   "source": [
    "## Training and prediction"
   ]
  },
  {
   "cell_type": "markdown",
   "id": "621bc52d",
   "metadata": {},
   "source": [
    "As first thing we want to see how our perceptron performs in the task of classifying the randomly generated data.\n",
    "So, we need to define an error function that describes how the trained neuron performs, and use this error function with an implemented optimizer (we use the scipy library) that sets the correct parameters of our neuron (the weights and the bias).\n",
    "Finally we can use the trained neuron for our task on new data, which is called in the code test set, that are data different with respect to the data that we used to train the model."
   ]
  },
  {
   "cell_type": "code",
   "execution_count": 19,
   "id": "c5ac1c83",
   "metadata": {},
   "outputs": [
    {
     "name": "stdout",
     "output_type": "stream",
     "text": [
      "[59.87263045 25.48356713  1.58932331]\n",
      "Optimization terminated successfully.\n"
     ]
    },
    {
     "data": {
      "text/plain": [
       "[<matplotlib.lines.Line2D at 0x7f69a074c0a0>,\n",
       " <matplotlib.lines.Line2D at 0x7f69a074c040>,\n",
       " <matplotlib.lines.Line2D at 0x7f69a074c0d0>]"
      ]
     },
     "execution_count": 19,
     "metadata": {},
     "output_type": "execute_result"
    },
    {
     "data": {
      "image/png": "[encoded data removed]",
      "text/plain": [
       "<Figure size 432x288 with 1 Axes>"
      ]
     },
     "metadata": {
      "needs_background": "light"
     },
     "output_type": "display_data"
    }
   ],
   "source": [
    "# define an error function for our neuron\n",
    "def error_function(teta):\n",
    "    w=teta[0:2]\n",
    "    b=teta[2]\n",
    "    c=0\n",
    "    for k in range(len(data)):\n",
    "        c +=(neuron(w,b,data[k,0])-data[k,1])**2  #error between the computed output and the real output\n",
    "    return c\n",
    "\n",
    "# Function that describe our trained neuron (after the application of an optimizer)\n",
    "def neuronopt(x): \n",
    "    return neuron(opt.x[0:2],opt.x[2],x)\n",
    "\n",
    "\n",
    "dataset = np.random.randn(100,2) # rand dataset\n",
    "\n",
    "# Train our model by chosing a starting point and by using the scipy builtin optimiZer\n",
    "x0 = np.array([3,1.,1.])\n",
    "opt = scipy.optimize.minimize(error_function,x0)\n",
    "print(opt.x)\n",
    "print(opt.message)\n",
    "\n",
    "# We can divide the results that devide a plane into two helves\n",
    "datatest1 = np.array([p for p in dataset if neuronopt(p)>0])\n",
    "datatest2 = np.array([p for p in dataset if neuronopt(p)<0])\n",
    "# Plotting results\n",
    "matplotlib.pyplot.plot([-1,1],[3,-3],'r', datatest1[::,0], datatest1[::,1],'ko',  datatest2[::,0], datatest2[::,1],'ro')"
   ]
  },
  {
   "cell_type": "markdown",
   "id": "d2eefecf",
   "metadata": {},
   "source": [
    "## Optimization comparisons"
   ]
  },
  {
   "cell_type": "markdown",
   "id": "2ccbd355",
   "metadata": {},
   "source": [
    "Now, we want to see how differents optimization methods work.\n",
    "\n",
    "We want to compare the following optimizer:\n",
    "- the SciPy optimizer (Which use an implementation of the BFGS algorithm, that computes an approximation of the Hessian matrix),\n",
    "- an implementation of the Steepest Descent,\n",
    "- an implementation of the  Backtracking.\n",
    "\n",
    "Remember that the steepest descent and the bactracking search strategies are iterative algorithm, so we want that they reach a convergence in a finite number of iterations. To ensure that the program will end, we set a maximum number of iterations (6000) and we control the iterations by considering also a tolerance.\n",
    "\n",
    "The tolerance describe the relative error in computing the parameter of the neuron.\n",
    "\n",
    "- We implement the ***Steepest Descent*** that takes in input an initial point of the function($x_0$) and a parameter $\\alpha$ (in the range 0,1), which is used to have a faster convergence. In this method this alpha is constant and do not change in the iterations.\n",
    "\n",
    "- We also implement the ***Steepest Descent with Backtracking*** that takes two other parameters, $c$ and $p$, which are also chosen arbitrary. The $c$  is a factor that is used to multiply the gradient of the error function and $p$ is used to update also the parameter $\\alpha = p \\times \\alpha$ . \n",
    "We know from the theory that a good choice of $c$ is $c=10^{-4}$."
   ]
  },
  {
   "cell_type": "code",
   "execution_count": 20,
   "id": "90c69ef0",
   "metadata": {},
   "outputs": [],
   "source": [
    "import numpy as np\n",
    "\n",
    "def steep_desc(theta,alpha,tol,data):\n",
    "    (n,m)=data.shape\n",
    "    (n1) = theta.shape\n",
    "    theta31 = np.copy(theta)\n",
    "    w1 = theta31[0:2]\n",
    "    b1 = theta31[2]\n",
    "    nitmax = 60000\n",
    "    err=1\n",
    "    nit=0#number of iterartion\n",
    "    while err > tol and nit < nitmax:\n",
    "        nit=nit+1\n",
    "        theta30 = np.copy(theta31)\n",
    "        w0 = np.copy(w1)\n",
    "        b0 = np.copy(b1)\n",
    "        w1 = np.copy(w0)\n",
    "        b1 = np.copy(b0)\n",
    "        for k in range(n):\n",
    "            yk = neuron(w0,b0,data[k,0]) \n",
    "            w1 = w1 - alpha*(yk-data[k,1])*np.asarray(data[k,0])*(1-yk**2)/2.0\n",
    "            b1 = b1 - alpha*(yk-data[k,1])*(1-yk**2)/2.0\n",
    "            y_k1 = neuron(w1,b1,data[k,0])  \n",
    "    \n",
    "          \n",
    "        if(y_k1>=yk):\n",
    "                print('Not decreasing at iteration', nit)\n",
    "                break\n",
    "        theta31[0:2] = w1\n",
    "        theta31[2] = b1\n",
    "        err =  np.max(abs(theta31-theta30)/(1+abs(theta30)))\n",
    "      \n",
    "    print('Iterations',nit)\n",
    "    print(\"Error \",err)\n",
    "    print(\"Computed weights and bias \", w1, b1)\n",
    "    return theta31  \n",
    "\n",
    "# Implementation of the backtracking algorithm \n",
    "def steep_desc_backtracking(theta,alpha,c,p,tol,data):\n",
    "    (n,m)=data.shape\n",
    "    (n1) = theta.shape\n",
    "    theta31 = np.copy(theta)\n",
    "    w1 = theta31[0:2]\n",
    "    b1 = theta31[2]\n",
    "    nitmax = 60000\n",
    "    err=1\n",
    "    nit=0           #number of iterartion\n",
    "    while err > tol and nit < nitmax:\n",
    "        nit=nit+1\n",
    "        theta30 = np.copy(theta31)\n",
    "        w0 = np.copy(w1)\n",
    "        b0 = np.copy(b1)\n",
    "        w1 = np.copy(w0)\n",
    "        b1 = np.copy(b0)\n",
    "        \n",
    "        for k in range(n):\n",
    "            yk = neuron(w0,b0,data[k,0]) \n",
    "            # We rewrite this instruction in order to implement the ARMIJO CONDITION\n",
    "            w1 = w1 - c*alpha*(yk-data[k,1])*np.asarray(data[k,0])*(1-yk**2)/2.0\n",
    "            b1 = b1 - c*alpha*(yk-data[k,1])*(1-yk**2)/2.0\n",
    "            y_k1 = neuron(w1,b1,data[k,0])  \n",
    "    \n",
    "          \n",
    "        if(y_k1>=yk):\n",
    "                print('Not decreasing at iteration', nit)\n",
    "                break\n",
    "        # update alpha wrt the parameter p in order to guarantee a faster convergence\n",
    "        alpha = p*alpha\n",
    "        theta31[0:2] = w1\n",
    "        theta31[2] = b1\n",
    "        err =  np.max(abs(theta31-theta30)/(1+abs(theta30)))\n",
    "      \n",
    "    print('Iterations',nit)\n",
    "    print(\"Error \",err)\n",
    "    print(\"Computed weights and bias \", w1, b1)\n",
    "    return theta31 "
   ]
  },
  {
   "cell_type": "markdown",
   "id": "11c0bdb7",
   "metadata": {},
   "source": [
    "Now, let us see how the methods work by choosing a common starting point $x_0$, and similar tolerance ($5 \\times 10^{-6}$):\n",
    "\n",
    "- The **SciPy Optimizer** converges in 23 iterations,\n",
    "- The **Steepest descent algorithm** converges with 24260 iterations (a lot!),\n",
    "- The **Backtracking algorithm** compute the minmum with only 1 iteration and also reach a better weight error. (If we choose a smaller tolerance?)"
   ]
  },
  {
   "cell_type": "code",
   "execution_count": 21,
   "id": "c51fce32",
   "metadata": {},
   "outputs": [
    {
     "name": "stdout",
     "output_type": "stream",
     "text": [
      "---++++ SciPy algorithm ---++++ \n",
      "[59.87263045 25.48356713  1.58932331]\n",
      "23 3.5698650492514346e-06\n",
      "\n",
      "-+-+-+-+-+-+-+-+-+-+-+-+-+-+-+-+-+-+-+-+-+-+-+-+-+-+-+-+-+-+-+-+-+-+-+-+\n",
      "---++++ Steepest descent algorithm ---++++ \n",
      "Iterations 25576\n",
      "Error  4.999822003164373e-06\n",
      "Computed weights and bias  [31.30947992 13.125974  ] 0.7269605732254707\n",
      "\n",
      "-+-+-+-+-+-+-+-+-+-+-+-+-+-+-+-+-+-+-+-+-+-+-+-+-+-+-+-+-+-+-+-+-+-+-+-+\n",
      "---++++ Backtracking algorithm ---++++\n",
      "Iterations 13\n",
      "Error  4.784843886382112e-06\n",
      "Computed weights and bias  [3.00014529 0.99978903] 0.9997472843304483\n"
     ]
    }
   ],
   "source": [
    "x0 = np.array([3.,1,1.])\n",
    "\n",
    "opt = scipy.optimize.minimize(error_function,x0)\n",
    "print(\"---++++ SciPy algorithm ---++++ \")\n",
    "print(opt.x)\n",
    "print(opt.nit,opt.fun)\n",
    "print(\"\\n-+-+-+-+-+-+-+-+-+-+-+-+-+-+-+-+-+-+-+-+-+-+-+-+-+-+-+-+-+-+-+-+-+-+-+-+\")\n",
    "print(\"---++++ Steepest descent algorithm ---++++ \")\n",
    "optw = steep_desc(x0,0.39, 5e-6,data)\n",
    "\n",
    "print(\"\\n-+-+-+-+-+-+-+-+-+-+-+-+-+-+-+-+-+-+-+-+-+-+-+-+-+-+-+-+-+-+-+-+-+-+-+-+\")\n",
    "print(\"---++++ Backtracking algorithm ---++++\")\n",
    "optw1 = steep_desc_backtracking(x0,0.39, 1e-4, 0.9, 5e-6,data)"
   ]
  },
  {
   "cell_type": "markdown",
   "id": "9eb3135c",
   "metadata": {},
   "source": [
    "Now, let us see how the neuons, trained with the different strategies, work in our task.\n",
    "\n",
    "If we use the models to classify the test data, they seem to have the same behaviour, also because the computed parameters with the steepest descent and the backtracking are very similar (but this is not always true, we can have also different parameters...)."
   ]
  },
  {
   "cell_type": "code",
   "execution_count": 22,
   "id": "5515ef9b",
   "metadata": {},
   "outputs": [
    {
     "name": "stdout",
     "output_type": "stream",
     "text": [
      "Points calculated with the Steepest descent optimized neuron\n"
     ]
    },
    {
     "data": {
      "text/plain": [
       "[<matplotlib.lines.Line2D at 0x7f69a06b6c70>,\n",
       " <matplotlib.lines.Line2D at 0x7f69a06b6b20>,\n",
       " <matplotlib.lines.Line2D at 0x7f69a06b6ca0>]"
      ]
     },
     "execution_count": 22,
     "metadata": {},
     "output_type": "execute_result"
    },
    {
     "data": {
      "image/png": "[encoded data removed]",
      "text/plain": [
       "<Figure size 432x288 with 1 Axes>"
      ]
     },
     "metadata": {
      "needs_background": "light"
     },
     "output_type": "display_data"
    }
   ],
   "source": [
    "def neuronoptw(x): \n",
    "    return neuron(optw[0:2],optw[2],x)\n",
    "\n",
    "datatest1w = np.array([p for p in dataset if neuronoptw(p)>0])\n",
    "datatest2w = np.array([p for p in dataset if neuronoptw(p)<0])\n",
    "print(\"Points calculated with the Steepest descent optimized neuron\")\n",
    "matplotlib.pyplot.plot([-1,1],[3,-3],'r', datatest1w[::,0], datatest1w[::,1],'ko',  datatest2w[::,0], datatest2w[::,1],'ro')"
   ]
  },
  {
   "cell_type": "markdown",
   "id": "4dc7fa6f",
   "metadata": {},
   "source": [
    "By plotting this result, we can see that the Perceptron trained by using the implementation of the steepest descent algorithm perform more or less as the one trained by using the SciPy optimizer, but we have to take into account that it **requires a lot of iterations**.\n",
    "\n",
    "Now let us see how perform the Perceptron trained by using the implementation of the Backtracking."
   ]
  },
  {
   "cell_type": "code",
   "execution_count": 23,
   "id": "bb622f18",
   "metadata": {},
   "outputs": [
    {
     "name": "stdout",
     "output_type": "stream",
     "text": [
      "Points calculated with the Backtracking optimized neuron\n"
     ]
    },
    {
     "data": {
      "text/plain": [
       "[<matplotlib.lines.Line2D at 0x7f69a069c2e0>,\n",
       " <matplotlib.lines.Line2D at 0x7f69a069c190>,\n",
       " <matplotlib.lines.Line2D at 0x7f69a069c310>]"
      ]
     },
     "execution_count": 23,
     "metadata": {},
     "output_type": "execute_result"
    },
    {
     "data": {
      "image/png": "[encoded data removed]",
      "text/plain": [
       "<Figure size 432x288 with 1 Axes>"
      ]
     },
     "metadata": {
      "needs_background": "light"
     },
     "output_type": "display_data"
    }
   ],
   "source": [
    "def neuronoptw1(x): \n",
    "    return neuron(optw1[0:2],optw1[2],x)\n",
    "    \n",
    "datatest1w = np.array([p for p in dataset if neuronoptw1(p)>0])\n",
    "datatest2w = np.array([p for p in dataset if neuronoptw1(p)<0])\n",
    "print(\"Points calculated with the Backtracking optimized neuron\")\n",
    "#print(datatest2w)\n",
    "matplotlib.pyplot.plot([-1,1],[3,-3],'r', datatest1w[::,0], datatest1w[::,1],'ko',  datatest2w[::,0], datatest2w[::,1],'ro')"
   ]
  },
  {
   "cell_type": "markdown",
   "id": "76d2ca55",
   "metadata": {},
   "source": [
    "By looking at the plotted result of the predictions, the Perceptron trained with the Backtracking seems to performs worse than the previous ones: there are some black points under the border line (it means eror in classification).\n",
    "\n",
    "Probably we have to choose better the hyperparameter, because we reach convergence in just 1 iteration, but we encour in poor classification performance."
   ]
  },
  {
   "cell_type": "code",
   "execution_count": 24,
   "id": "bed7e568",
   "metadata": {},
   "outputs": [
    {
     "name": "stdout",
     "output_type": "stream",
     "text": [
      "\n",
      "-+-+-+-+-+-+-+-+-+-+-+-+-+-+-+-+-+-+-+-+-+-+-+-+-+-+-+-+-+-+-+-+-+-+-+-+\n",
      "---++++ Backtracking algorithm ---++++\n",
      "Iterations 37141\n",
      "Error  4.999923110323612e-06\n",
      "Computed weights and bias  [3.45361206 0.92416586] 0.1634138790214727\n",
      "Points calculated with the Backtracking optimized neuron\n"
     ]
    },
    {
     "data": {
      "text/plain": [
       "[<matplotlib.lines.Line2D at 0x7f69a05f29a0>,\n",
       " <matplotlib.lines.Line2D at 0x7f69a05f2850>,\n",
       " <matplotlib.lines.Line2D at 0x7f69a05f29d0>]"
      ]
     },
     "execution_count": 24,
     "metadata": {},
     "output_type": "execute_result"
    },
    {
     "data": {
      "image/png": "[encoded data removed]",
      "text/plain": [
       "<Figure size 432x288 with 1 Axes>"
      ]
     },
     "metadata": {
      "needs_background": "light"
     },
     "output_type": "display_data"
    }
   ],
   "source": [
    "print(\"\\n-+-+-+-+-+-+-+-+-+-+-+-+-+-+-+-+-+-+-+-+-+-+-+-+-+-+-+-+-+-+-+-+-+-+-+-+\")\n",
    "print(\"---++++ Backtracking algorithm ---++++\")\n",
    "optw1 = steep_desc_backtracking(x0,0.75, 1e-4, 1 - 1e-6, 5e-6,data)\n",
    "\n",
    "datatest1w = np.array([p for p in dataset if neuronoptw1(p)>0])\n",
    "datatest2w = np.array([p for p in dataset if neuronoptw1(p)<0])\n",
    "print(\"Points calculated with the Backtracking optimized neuron\")\n",
    "#print(datatest2w)\n",
    "matplotlib.pyplot.plot([-1,1],[3,-3],'r', datatest1w[::,0], datatest1w[::,1],'ko',  datatest2w[::,0], datatest2w[::,1],'ro')"
   ]
  },
  {
   "cell_type": "markdown",
   "id": "34e1350c",
   "metadata": {},
   "source": [
    "From the above cell we can see that with different parameters we have better perform, but unfortunately the necessary iterations grow a lot. \n",
    "We can conclude that we have to tweak the parameter in a reasonable way (not just with a trial & error approach) to have good performance in both training and classification phases.\n",
    "\n",
    "We also have to notice that not all the starting point $x_0$ guarantee the the function's decrease, an example is the choice \n",
    "\n",
    "$x_0 = \\{ 1, 1, 1\\}$"
   ]
  },
  {
   "cell_type": "code",
   "execution_count": 25,
   "id": "ba14f3cc",
   "metadata": {},
   "outputs": [
    {
     "name": "stdout",
     "output_type": "stream",
     "text": [
      "\n",
      "-+-+-+-+-+-+-+-+-+-+-+-+-+-+-+-+-+-+-+-+-+-+-+-+-+-+-+-+-+-+-+-+-+-+-+-+\n",
      "---++++ Steepest descent algorithm ---++++ \n",
      "Not decreasing at iteration 1\n",
      "Iterations 1\n",
      "Error  1\n",
      "Computed weights and bias  [1.32189294 0.457299  ] 0.8697729425737456\n",
      "\n",
      "-+-+-+-+-+-+-+-+-+-+-+-+-+-+-+-+-+-+-+-+-+-+-+-+-+-+-+-+-+-+-+-+-+-+-+-+\n",
      "---++++ Backtracking algorithm ---++++\n",
      "Not decreasing at iteration 1\n",
      "Iterations 1\n",
      "Error  1\n",
      "Computed weights and bias  [1.00003219 0.99994573] 0.9999869772942573\n"
     ]
    }
   ],
   "source": [
    "x0 = np.array([1.,1,1.])\n",
    "\n",
    "print(\"\\n-+-+-+-+-+-+-+-+-+-+-+-+-+-+-+-+-+-+-+-+-+-+-+-+-+-+-+-+-+-+-+-+-+-+-+-+\")\n",
    "print(\"---++++ Steepest descent algorithm ---++++ \")\n",
    "optw = steep_desc(x0,0.39, 5e-6,data)\n",
    "\n",
    "print(\"\\n-+-+-+-+-+-+-+-+-+-+-+-+-+-+-+-+-+-+-+-+-+-+-+-+-+-+-+-+-+-+-+-+-+-+-+-+\")\n",
    "print(\"---++++ Backtracking algorithm ---++++\")\n",
    "optw1 = steep_desc_backtracking(x0,0.39, 1e-4, 0.9, 5e-6,data)"
   ]
  }
 ],
 "metadata": {
  "kernelspec": {
   "display_name": "Python 3",
   "language": "python",
   "name": "python3"
  },
  "language_info": {
   "codemirror_mode": {
    "name": "ipython",
    "version": 3
   },
   "file_extension": ".py",
   "mimetype": "text/x-python",
   "name": "python",
   "nbconvert_exporter": "python",
   "pygments_lexer": "ipython3",
   "version": "3.8.8"
  }
 },
 "nbformat": 4,
 "nbformat_minor": 5
}
