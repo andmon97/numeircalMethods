{
 "cells": [
  {
   "cell_type": "markdown",
   "metadata": {},
   "source": [
    "# The Power Method"
   ]
  },
  {
   "cell_type": "markdown",
   "metadata": {},
   "source": [
    "Given a matrix $A$, in order to compute its eigenvalues we can use the Python function eig, defined in the linear algebra class of NumPy library. The command numpy.linalg.eig(A) gives two outputs: an array object containing the eigenvalues  of the matrix $A$ and a bidmensional array (a matrix) containing the correspoding eigenvectors.\n",
    "\n",
    "For example, let us compute the eigenvalues for the following matrices $A$ and $B$:\n",
    "\n",
    "$$\n",
    "A = \\left[\\begin{array}{ccc}\n",
    "1&2&3\\\\\n",
    "1&2&7\\\\\n",
    "1&3&5\\\\\n",
    "\\end{array}\\right]\n",
    "$$\n",
    "\n",
    "$$\n",
    "B = \\left[ \\begin{array}{cc}\n",
    "1&-1\\\\\n",
    "1&1\\\\\n",
    "\\end{array}\\right]\n",
    "$$\n"
   ]
  },
  {
   "cell_type": "code",
   "execution_count": 1,
   "metadata": {},
   "outputs": [],
   "source": [
    "import numpy as np "
   ]
  },
  {
   "cell_type": "code",
   "execution_count": 2,
   "metadata": {
    "collapsed": true
   },
   "outputs": [
    {
     "name": "stdout",
     "output_type": "stream",
     "text": [
      "eigenvalues of A [ 8.95513156  0.34386002 -1.29899158]\n",
      "matrix containing the corresponding eigenvctors\n",
      "  [[ 0.40249394  0.97995133  0.27697554]\n",
      " [ 0.67748344 -0.1728427  -0.8838416 ]\n",
      " [ 0.61564179 -0.09909994  0.37697292]]\n"
     ]
    }
   ],
   "source": [
    "A = np.array([[1,2,3],[1,2,7],[1,3,5]])\n",
    "\n",
    "#In l we find the eigenvalues of A, in v we find the corresponding eigenvectors\n",
    "l,v = np.linalg.eig(A)\n",
    "\n",
    "print('eigenvalues of A', l)\n",
    "print('matrix containing the corresponding eigenvctors\\n ',v )"
   ]
  },
  {
   "cell_type": "code",
   "execution_count": 3,
   "metadata": {
    "collapsed": true
   },
   "outputs": [
    {
     "name": "stdout",
     "output_type": "stream",
     "text": [
      "eigenvalues of B [1.+1.j 1.-1.j]\n",
      "matrix of the corresponding eigenvectors \n",
      " [[0.70710678+0.j         0.70710678-0.j        ]\n",
      " [0.        -0.70710678j 0.        +0.70710678j]]\n"
     ]
    }
   ],
   "source": [
    "B = np.array([[1,-1],[1,1]])\n",
    "l_B,v_B = np.linalg.eig(B)\n",
    "print('eigenvalues of B', l_B)\n",
    "print('matrix of the corresponding eigenvectors \\n', v_B)"
   ]
  },
  {
   "cell_type": "markdown",
   "metadata": {},
   "source": [
    "Comments: we notice that $A\\in \\mathbb{R}^{3\\times 3}$ has all real eigenvalues. The matrix $B\\in \\mathbb{R}^{2\\times2}$ has only complex eigenvalues. "
   ]
  },
  {
   "cell_type": "markdown",
   "metadata": {},
   "source": [
    "We use the power method to compute the absolute dominant eigenvalue $\\lambda_1$ for the matrix $A$. Looking at the values we just computed via the Python function eig, we notice that the sought $\\lambda_1\\approx 9$.\n",
    "\n",
    "Let us write a function for the power method algorithm. As input we provide a vector $u_0$ freely chosen, the matrix $A$, a tolerance specified by the user and a maximum number of iterations. \n",
    "For this version we are going to use an estimate of the absolute error, together with the maximum number of iteration as a stoppin criterion. \n",
    "\n",
    "$$\n",
    "err := |\\lambda_{k+1} - \\lambda_k|\n",
    "$$\n",
    "\n",
    "This variable \"err\" contains the absolute value of the difference between two successive approximation of $\\lambda_1$ obtained at the $k$-th iteration and at the $(k+1)$-th iteration, respectively. "
   ]
  },
  {
   "cell_type": "code",
   "execution_count": 4,
   "metadata": {},
   "outputs": [],
   "source": [
    "def Power_Met(u0,A,tol,it_max):\n",
    "    n_it = 0\n",
    "    u0 = np.dot(A,u0) #iterative algorithm\n",
    "    lam0 = np.dot(u0.T , np.dot(A,u0))/(np.dot(u0.T,u0))\n",
    "    \n",
    "    #We collect all the lambda_k in a list \n",
    "    approx = []   \n",
    "    approx.append(lam0)\n",
    "    \n",
    "    #We use a list also to store the error estimates at every iteration\n",
    "    err = []\n",
    "    err.append(1)\n",
    "    \n",
    "    while((err[-1]>tol) & (n_it <it_max) ):\n",
    "        u0 = np.dot(A,u0)\n",
    "        lam = np.dot(u0.T , np.dot(A,u0))/(np.dot(u0.T,u0))\n",
    "        approx.append(lam)\n",
    "        err.append(abs(lam-lam0))\n",
    "        lam0 = lam\n",
    "        n_it = n_it+1\n",
    "        \n",
    "    return lam,u0,n_it,err, approx"
   ]
  },
  {
   "cell_type": "code",
   "execution_count": 5,
   "metadata": {},
   "outputs": [
    {
     "name": "stdout",
     "output_type": "stream",
     "text": [
      "Last computed value 8.955125255780143\n",
      "Total number of iterations 4\n",
      "Corresponding computed eigenvector [38014 63986 58145]\n",
      "Error at the last step  4.869403356799751e-05\n"
     ]
    }
   ],
   "source": [
    "[lam,u0,n_it,err, approx] = Power_Met(np.array([1,1,1]),A,1e-4,100)\n",
    "\n",
    "print('Last computed value', lam)\n",
    "print('Total number of iterations', n_it)\n",
    "print('Corresponding computed eigenvector', u0)\n",
    "print('Error at the last step ', err[-1])\n"
   ]
  },
  {
   "cell_type": "markdown",
   "metadata": {},
   "source": [
    "The last computed value, that should be a rather good approximation for $\\lambda_1$, is obviusly incorrect! Let us do a plot to better see the trend of the computed $\\lambda_k$:"
   ]
  },
  {
   "cell_type": "code",
   "execution_count": 6,
   "metadata": {},
   "outputs": [],
   "source": [
    "import matplotlib.pyplot as plt"
   ]
  },
  {
   "cell_type": "code",
   "execution_count": 7,
   "metadata": {
    "collapsed": true
   },
   "outputs": [
    {
     "data": {
      "text/plain": [
       "Text(0.5, 1.0, 'Standard Power Method')"
      ]
     },
     "execution_count": 7,
     "metadata": {},
     "output_type": "execute_result"
    },
    {
     "data": {
      "image/png": "[encoded data removed]",
      "text/plain": [
       "<Figure size 432x288 with 1 Axes>"
      ]
     },
     "metadata": {
      "needs_background": "light"
     },
     "output_type": "display_data"
    }
   ],
   "source": [
    "#We plot in blue the lambda_k and in red the \"right\" value\n",
    "\n",
    "plt.plot(approx,err,'db',l[0],0,'or')\n",
    "plt.xlabel('$\\lambda_k$')\n",
    "plt.ylabel('absolute error ')# It is infact an estimate of the absolute error\n",
    "plt.title('Standard Power Method')"
   ]
  },
  {
   "cell_type": "markdown",
   "metadata": {},
   "source": [
    "The plot is still not that clear, although it is evident an oscillating behaviour of the error. In order to gain even more insight about the problem, we can plot the error vs the number of iteration by using a semilogarithmic scale. "
   ]
  },
  {
   "cell_type": "code",
   "execution_count": 8,
   "metadata": {
    "collapsed": true
   },
   "outputs": [
    {
     "data": {
      "text/plain": [
       "Text(0.5, 1.0, 'Error behaviour')"
      ]
     },
     "execution_count": 8,
     "metadata": {},
     "output_type": "execute_result"
    },
    {
     "data": {
      "image/png": "[encoded data removed]",
      "text/plain": [
       "<Figure size 432x288 with 1 Axes>"
      ]
     },
     "metadata": {
      "needs_background": "light"
     },
     "output_type": "display_data"
    }
   ],
   "source": [
    "plt.semilogy(np.linspace(0,n_it,n_it+1),err,'-ob')\n",
    "plt.xlabel('Iterations')\n",
    "plt.ylabel('log absolute error')\n",
    "plt.title('Error behaviour')"
   ]
  },
  {
   "cell_type": "markdown",
   "metadata": {},
   "source": [
    "From the last plot there are really no doubts: the error is badly oscillating. There are picks of order of magnitude $10^2$, which clearly means, the method is not converging! The reason behind this behaviour must be search into \"numerics\". In order to have a stable algorithm we should use the \"normalization\" step. Let us try then to normalize the sequence of vectors $u_k$ at every step and then analyse the results. "
   ]
  },
  {
   "cell_type": "code",
   "execution_count": 9,
   "metadata": {},
   "outputs": [],
   "source": [
    "def Power_Met_Norm(u0,A,tol,it_max):\n",
    "    n_it = 1\n",
    "    \n",
    "    y0 = u0/np.linalg.norm(u0)\n",
    "    \n",
    "    zk = np.dot(A,y0)/np.linalg.norm(np.dot(A,y0))  #iterative algorithm\n",
    "    lam0 = np.dot(zk.T , np.dot(A,zk))/(np.dot(zk.T,zk))\n",
    "    \n",
    "    #We collect all the lambda_k in a list \n",
    "    approx = []\n",
    "    approx.append(lam0)\n",
    "    \n",
    "    #We use a list also to store the error estimates at every iteration\n",
    "    err = []\n",
    "    err.append(1)\n",
    "    \n",
    "    while((err[-1]>tol) & (n_it <it_max) ):\n",
    "        zk = np.dot(A,zk)/np.linalg.norm(np.dot(A,zk))\n",
    "        lam = np.dot(zk.T , np.dot(A,zk))/(np.dot(zk.T,zk))\n",
    "        approx.append(lam)\n",
    "        err.append(abs(lam-lam0))\n",
    "        lam0 = lam\n",
    "        n_it = n_it+1\n",
    "        \n",
    "    return lam,zk,n_it-1,err, approx"
   ]
  },
  {
   "cell_type": "code",
   "execution_count": 10,
   "metadata": {},
   "outputs": [
    {
     "name": "stdout",
     "output_type": "stream",
     "text": [
      "Last computed value 8.95512525578014\n",
      "Number of total iterations 4\n",
      "Corresponding computed eigenvector  [0.40249305 0.67748514 0.61564051]\n",
      "last computed error  4.869403356799751e-05\n"
     ]
    }
   ],
   "source": [
    "[lamN,uN,n_itN,errN, approxN] = Power_Met_Norm(np.array([1,1,1]),A,1e-4,100)\n",
    "\n",
    "print('Last computed value', lamN)\n",
    "print('Number of total iterations', n_itN)\n",
    "print('Corresponding computed eigenvector ', uN)\n",
    "print('last computed error ', errN[-1])\n"
   ]
  },
  {
   "cell_type": "markdown",
   "metadata": {},
   "source": [
    "Now, with only $4$ iteration the method converges to the sought $\\lambda_1$  with accuracy $10^{-5}$. Let us plot again the error behaviour, by using a semilogarithmic scale:"
   ]
  },
  {
   "cell_type": "code",
   "execution_count": 11,
   "metadata": {
    "collapsed": true
   },
   "outputs": [
    {
     "data": {
      "text/plain": [
       "Text(0.5, 1.0, 'Error behaviour')"
      ]
     },
     "execution_count": 11,
     "metadata": {},
     "output_type": "execute_result"
    },
    {
     "data": {
      "image/png": "[encoded data removed]",
      "text/plain": [
       "<Figure size 432x288 with 1 Axes>"
      ]
     },
     "metadata": {
      "needs_background": "light"
     },
     "output_type": "display_data"
    }
   ],
   "source": [
    "plt.semilogy(np.linspace(0,n_itN,n_itN+1),errN,'-ob')\n",
    "plt.xlabel('Iterations')\n",
    "plt.ylabel('log Absolute Error')\n",
    "plt.title('Error behaviour')"
   ]
  },
  {
   "cell_type": "markdown",
   "metadata": {},
   "source": [
    "# Page-Ranking"
   ]
  },
  {
   "attachments": {
    "simpleNET.png": {
     "image/png": "[encoded data removed]"
    }
   },
   "cell_type": "markdown",
   "metadata": {},
   "source": [
    "Let us consider the following simplified version of the net\n",
    "\n",
    "![simpleNET.png](attachment:simpleNET.png)"
   ]
  },
  {
   "cell_type": "markdown",
   "metadata": {},
   "source": [
    "We notice that we have 5 web pages, but we also have a so called dangling node, which is page 5. \n",
    "\n",
    "- As first thing, we construct the hyperlink matrix H:\n",
    "\n",
    "$$\n",
    "H = \\left[\\begin{array}{ccccc}\n",
    "0&1/2&1/4&1&0\\\\\n",
    "1&0&1/4&0&0\\\\\n",
    "0&1/2&0&0&0\\\\\n",
    "0&0&1/4&0&0\\\\\n",
    "0&0&1/4&0&0\\\\\n",
    "\\end{array}\\right]\n",
    "$$\n",
    "\n",
    "- As a second step we consruct the matrix S, where we replace every zero column vector in H with a vector having as entries $1/n$, with $n$ denoting the number of total web-pages\n",
    "\n",
    "$$\n",
    "S = \\left[\\begin{array}{ccccc}\n",
    "0&1/2&1/4&1&1/5\\\\\n",
    "1&0&1/4&0&1/5\\\\\n",
    "0&1/2&0&0&1/5\\\\\n",
    "0&0&1/4&0&1/5\\\\\n",
    "0&0&1/4&0&1/5\\\\\n",
    "\\end{array}\\right]\n",
    "$$\n",
    "\n",
    "-In order to obtain a primitive and irreducible matrix, we need to construct the Google matrix G: \n",
    "\n",
    "$$\n",
    "G = \\alpha S +\\frac{(1-\\alpha)}{n}{\\bf 1}\n",
    "$$\n",
    "\n",
    "where $\\alpha$ is chosen as $0.85$ and ${\\bf 1}$ denotes a $n\\times n$ matrix filled with ones. "
   ]
  },
  {
   "cell_type": "code",
   "execution_count": 12,
   "metadata": {
    "collapsed": true
   },
   "outputs": [
    {
     "name": "stdout",
     "output_type": "stream",
     "text": [
      "S matrix\n",
      "  [[0.         0.2        0.33333333 0.2        0.25      ]\n",
      " [0.33333333 0.2        0.33333333 0.2        0.25      ]\n",
      " [0.33333333 0.2        0.         0.2        0.25      ]\n",
      " [0.33333333 0.2        0.         0.2        0.25      ]\n",
      " [0.         0.2        0.33333333 0.2        0.        ]]\n",
      "\n",
      " Google matrix G \n",
      " [[0.03       0.2        0.31333333 0.2        0.2425    ]\n",
      " [0.31333333 0.2        0.31333333 0.2        0.2425    ]\n",
      " [0.31333333 0.2        0.03       0.2        0.2425    ]\n",
      " [0.31333333 0.2        0.03       0.2        0.2425    ]\n",
      " [0.03       0.2        0.31333333 0.2        0.03      ]]\n"
     ]
    }
   ],
   "source": [
    "#S = np.array([[0,1/2,1/4,1,1/5],[1,0,1/4,0,1/5],[0,1/2,0,0,1/5],[0,0,1/4,0,1/5],[0,0,1/4,0,1/5]])\n",
    "#print('S matrix\\n ', S)\n",
    "\n",
    "S = np.array([[0,1/5,1/3,1/5,1/4],[1/3,1/5,1/3,1/5,1/4],[1/3,1/5,0,1/5,1/4],[1/3,1/5,0,1/5,1/4],[0,1/5,1/3,1/5,0]])\n",
    "print('S matrix\\n ', S)\n",
    "\n",
    "alpha = 0.85\n",
    "n = 5\n",
    "\n",
    "G = alpha*S + (1-alpha)/n*np.ones([5,5])\n",
    "print('\\n Google matrix G \\n', G)"
   ]
  },
  {
   "cell_type": "markdown",
   "metadata": {},
   "source": [
    "In the simplified web model we would like to compute the ranking of the 5 pages. To this end we need the power method which computes the corresponding eigenvector of the eigenvalue $\\lambda=1$.\n",
    "Hence we write a simplified version of the function Power_Met_Norm to accomplish this task:"
   ]
  },
  {
   "cell_type": "code",
   "execution_count": 13,
   "metadata": {},
   "outputs": [],
   "source": [
    "def Page_Rank(u0,A,tol,it_max):\n",
    "    n_it = 1\n",
    "\n",
    "    y0 = u0/np.linalg.norm(u0)\n",
    "    \n",
    "    zk = np.dot(A,y0)/np.linalg.norm(np.dot(A,y0))  #iterative algorithm\n",
    "   \n",
    "    #We use a list also to store the error estimates at every iteration\n",
    "    err = []\n",
    "    err.append(1)\n",
    "    \n",
    "    while((err[-1]>tol) & (n_it <it_max) ):\n",
    "        temp = zk\n",
    "        zk = np.dot(A,zk)/np.linalg.norm(np.dot(A,zk))\n",
    "        err.append(np.linalg.norm(temp-zk))\n",
    "        n_it = n_it+1\n",
    "        \n",
    "    return zk,n_it-1,err"
   ]
  },
  {
   "cell_type": "code",
   "execution_count": 14,
   "metadata": {
    "collapsed": true
   },
   "outputs": [
    {
     "name": "stdout",
     "output_type": "stream",
     "text": [
      "Final computed zk \n",
      " [0.43326424 0.55602227 0.43326424 0.43326424 0.35733111]\n",
      "Total numebr of iteration 6\n",
      "Final accuracy 1.71766792597179e-06\n"
     ]
    }
   ],
   "source": [
    "z,n_it,err = Page_Rank(np.array([1,1,1,1,1]), G, 1e-5,100)\n",
    "print('Final computed zk \\n', z)\n",
    "print('Total numebr of iteration', n_it)\n",
    "print('Final accuracy',err[-1])"
   ]
  }
 ],
 "metadata": {
  "kernelspec": {
   "display_name": "Python 3",
   "language": "python",
   "name": "python3"
  },
  "language_info": {
   "codemirror_mode": {
    "name": "ipython",
    "version": 3
   },
   "file_extension": ".py",
   "mimetype": "text/x-python",
   "name": "python",
   "nbconvert_exporter": "python",
   "pygments_lexer": "ipython3",
   "version": "3.8.8"
  }
 },
 "nbformat": 4,
 "nbformat_minor": 4
}
