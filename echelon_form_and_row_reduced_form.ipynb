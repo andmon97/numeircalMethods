{
 "cells": [
  {
   "cell_type": "markdown",
   "metadata": {},
   "source": [
    "# ECHELON FORM AND ROW REDUCED FORM"
   ]
  },
  {
   "cell_type": "markdown",
   "metadata": {},
   "source": [
    "###  Row Reduced Echelon Form"
   ]
  },
  {
   "cell_type": "markdown",
   "metadata": {},
   "source": [
    "we use the symbolic package that compute the row reduce echelon form  "
   ]
  },
  {
   "cell_type": "code",
   "execution_count": 1,
   "metadata": {},
   "outputs": [
    {
     "name": "stdout",
     "output_type": "stream",
     "text": [
      "Matrix : Matrix([[1, 2, 2, 3, 1, 0, 0], [2, 4, 1, 3, 0, 1, 0], [3, 6, 1, 4, 0, 0, 1]]) \n",
      "The Row echelon form of matrix M and the pivot columns : (Matrix([\n",
      "[1, 2, 0, 1, 0, -1,  1],\n",
      "[0, 0, 1, 1, 0,  3, -2],\n",
      "[0, 0, 0, 0, 1, -5,  3]]), (0, 2, 4))\n"
     ]
    }
   ],
   "source": [
    "# import sympy  \n",
    "import sympy as sym\n",
    "  \n",
    "AS = sym.Matrix([[1, 2, 2, 3, 1, 0, 0], [2, 4, 1, 3, 0,1,0], [3, 6, 1, 4,0,0,1]])  \n",
    "print(\"Matrix : {} \".format(AS)) \n",
    "   \n",
    "# Use sympy.rref() method  \n",
    "AS_rref = AS.rref()   \n",
    "      \n",
    "print(\"The Row echelon form of matrix M and the pivot columns : {}\".format(AS_rref))   \n"
   ]
  },
  {
   "cell_type": "markdown",
   "metadata": {},
   "source": [
    "we construct a function with in Input a Matrix of size m x n and that give in output the echelon form. The permutation is performed in order to have a stable algorithm using the technique of partial pivoting."
   ]
  },
  {
   "cell_type": "code",
   "execution_count": 2,
   "metadata": {},
   "outputs": [],
   "source": [
    "import numpy as np\n",
    "  \n",
    "A = np.array([[1, 2, 2, 3], [2, 4, 1, 3], [3, 6, 1, 4]]) \n",
    "\n"
   ]
  },
  {
   "cell_type": "code",
   "execution_count": 3,
   "metadata": {},
   "outputs": [],
   "source": [
    "def ef_withpivot(A): # the number of column is greater or equal the number of rows\n",
    "    U = np.copy(A) # copy the matrix A in U \n",
    "    (m,n) = A.shape\n",
    "    j = 0 # index related to the column\n",
    "\n",
    "    for i in range(0,m): \n",
    "        ech = 1\n",
    "\n",
    "        while (ech == 1) & (j < n):\n",
    "          # find the pivotal index, maximum element in the column j FOR STABILITY REASONS\n",
    "          indm = np.argmax(abs(U[i:m, j])) \n",
    "          indm = indm + i\n",
    "\n",
    "         # perform the permutation to work well we should change != 0 with an absolute value less then a constant very small \n",
    "          if (indm != i) & (abs(U[indm,j]) > 1e-15): \n",
    "             U[ [i, indm],:] = U[[indm, i],:]\n",
    "          if ( abs( U[i,j] ) > 1e-15):\n",
    "             M = U[i+1:m, j]/ U[i, j] # vector because we do elimination of all the row below the pivotal one\n",
    "                # in numpy array there is no difference row vectors or column vectors\n",
    "                # np.outer to perform the outer product\n",
    "             U[i+1 : m, j+1 : n] = U[i+1 : m, j+1 : n] - np.outer(M, U[i, j+1 : n]) \n",
    "             U[i+1 : m, j]=0\n",
    "             j = j+1\n",
    "             ech = 0\n",
    "          else:\n",
    "            j = j+1\n",
    "            ech = 1      \n",
    "    return(U)    \n",
    "\n"
   ]
  },
  {
   "cell_type": "code",
   "execution_count": 4,
   "metadata": {},
   "outputs": [
    {
     "name": "stdout",
     "output_type": "stream",
     "text": [
      "[[3.00000000e+00 6.00000000e+00 1.00000000e+00 4.00000000e+00]\n",
      " [0.00000000e+00 0.00000000e+00 1.66666667e+00 1.66666667e+00]\n",
      " [0.00000000e+00 0.00000000e+00 0.00000000e+00 1.11022302e-16]]\n"
     ]
    }
   ],
   "source": [
    "A = np.array([  [1., 2., 2., 3.], \n",
    "                [2, 4, 1, 3], \n",
    "                [3, 6, 1, 4]])\n",
    "U = ef_withpivot(A)\n",
    "print(U)\n"
   ]
  },
  {
   "cell_type": "markdown",
   "metadata": {},
   "source": [
    "## Exercise ECHELON FORM\n",
    "Use the function of sympy sp.rref to compute the row reduced form of the matrix in the exercise 4.2.1  on page 178 of the book of Carl Meyer and find the  spanning sets for all the four fundamental subspaces\n"
   ]
  },
  {
   "cell_type": "code",
   "execution_count": 6,
   "metadata": {},
   "outputs": [
    {
     "name": "stdout",
     "output_type": "stream",
     "text": [
      "Ex. page 178 4.2.1, \n",
      " Matrix A= \n",
      "[[ 1.  2.  1.  1.  5.]\n",
      " [-2. -4.  0.  4. -2.]\n",
      " [ 1.  2.  2.  4.  9.]]\n",
      "\n",
      "\n",
      "\n",
      "Echelon form: \n",
      " Matrix A=\n",
      " [[-2. -4.  0.  4. -2.]\n",
      " [ 0.  0.  2.  6.  8.]\n",
      " [ 0.  0.  0.  0.  0.]]\n"
     ]
    }
   ],
   "source": [
    "A_ex = np.array([  [1., 2., 1., 1., 5.], \n",
    "                [-2., -4., 0., 4., -2.], \n",
    "                [1., 2., 2., 4., 9.]]) \n",
    "\n",
    "print(\"Ex. page 178 4.2.1, \\n Matrix A= \\n{}\".format(A_ex))\n",
    "print(\"\\n\\n\")   \n",
    "\n",
    "U_solEx = ef_withpivot(A_ex)\n",
    "print(\"Echelon form: \\n Matrix A=\\n {}\".format(U_solEx))"
   ]
  },
  {
   "cell_type": "markdown",
   "metadata": {},
   "source": [
    "we construct a function with in Input a Matrix of size m x n and that give in output the row reduced echelon form echelon form. The permutation is performed in order to have a stable algorithm using the technique of partial pivoting."
   ]
  },
  {
   "cell_type": "code",
   "execution_count": 12,
   "metadata": {},
   "outputs": [],
   "source": [
    "def rref_withpivot(A):\n",
    "    U = np.copy(A)\n",
    "    (m,n) = A.shape\n",
    "    P = np.eye(m) \n",
    "    j = 0\n",
    "    for i in range(0,m): \n",
    "        ech = 1\n",
    "\n",
    "        while (ech == 1) & (j < n): \n",
    "          indm = np.argmax(abs ( U[i:m,j] ))  # we consider the portion of rows from the pivot (at index i to m)\n",
    "          indm = indm + i\n",
    "\n",
    "          if (indm != i) & (abs(U[indm,j]) > 1e-15): # perform the permutation\n",
    "             U[ [i, indm],:]=U[[indm,i],:] \n",
    "             P[ [i, indm],:]=P[[indm,i],:] \n",
    "\n",
    "          if ( abs(U[i,j]) > 1e-15):\n",
    "             M = U[i+1:m,j] / U[i,j]\n",
    "             U[i+1:m, j+1:n]=U[i+1:m, j+1:n] - np.outer(M, U[i,j+1:n])\n",
    "             U[i+1:m,j] = 0           \n",
    "             U[i,j:n] = U[i,j:n] / U[i,j]   # the pivotal element should be 1    \n",
    "\n",
    "             if i > 0 :\n",
    "               M= U[0:i,j]/U[i,j]\n",
    "               U[0:(i),j:n]=U[0:i,j:n]-np.outer(M,U[i,j:n])     \n",
    "             j=j+1\n",
    "             ech=0\n",
    "             \n",
    "          else:\n",
    "            j=j+1\n",
    "            ech=1\n",
    "            \n",
    "    return(U,P)    \n",
    "\n",
    "\n"
   ]
  },
  {
   "cell_type": "code",
   "execution_count": 10,
   "metadata": {},
   "outputs": [
    {
     "name": "stdout",
     "output_type": "stream",
     "text": [
      "[[1.00000000e+00 2.00000000e+00 0.00000000e+00 1.00000000e+00]\n",
      " [0.00000000e+00 0.00000000e+00 1.00000000e+00 1.00000000e+00]\n",
      " [0.00000000e+00 0.00000000e+00 0.00000000e+00 1.11022302e-16]]\n",
      "[[ 0. -1.  1.]\n",
      " [ 0.  3. -2.]\n",
      " [ 1. -5.  3.]]\n"
     ]
    }
   ],
   "source": [
    "A = np.array([[1., 2., 2., 3., 1., 0, 0], [2, 4, 1, 3, 0,1,0], [3, 6, 1, 4,0,0,1]]) \n",
    "(U,P)=rref_withpivot(A)\n",
    "print(U[0:3,0:4])\n",
    "print(U[0:3,4:7])"
   ]
  },
  {
   "cell_type": "code",
   "execution_count": 7,
   "metadata": {},
   "outputs": [],
   "source": [
    "B = np.random.rand(3,3)\n",
    "I = np.eye(3)\n",
    "A = np.block([B,I]) # to define a matrix using its blocks"
   ]
  },
  {
   "cell_type": "code",
   "execution_count": 13,
   "metadata": {},
   "outputs": [
    {
     "data": {
      "text/plain": [
       "array([[0.20525418, 0.89989087, 0.00735674, 1.        , 0.        ,\n",
       "        0.        ],\n",
       "       [0.43793334, 0.03461284, 0.23398477, 0.        , 1.        ,\n",
       "        0.        ],\n",
       "       [0.89786276, 0.26621773, 0.20960834, 0.        , 0.        ,\n",
       "        1.        ]])"
      ]
     },
     "execution_count": 13,
     "metadata": {},
     "output_type": "execute_result"
    }
   ],
   "source": [
    "A"
   ]
  },
  {
   "cell_type": "code",
   "execution_count": 13,
   "metadata": {},
   "outputs": [
    {
     "name": "stdout",
     "output_type": "stream",
     "text": [
      "[[1. 0. 0.]\n",
      " [0. 1. 0.]\n",
      " [0. 0. 1.]]\n",
      "[[ 3.44577423 -3.13344017  1.8992108 ]\n",
      " [-1.27575983  0.0860571   2.08001048]\n",
      " [-0.20667225  2.71656853 -3.44524916]]\n"
     ]
    }
   ],
   "source": [
    "m = 3\n",
    "n = 3\n",
    "(U,P)=rref_withpivot(A)\n",
    "print(U[0:m,0:n])\n",
    "print(U[0:m,n:m+n])\n",
    "X=U[0:m,n:m+n]"
   ]
  },
  {
   "cell_type": "code",
   "execution_count": 19,
   "metadata": {},
   "outputs": [
    {
     "data": {
      "text/plain": [
       "array([[ 1.00000000e+00,  7.91570701e-17, -1.18594389e-17],\n",
       "       [-2.37339025e-18,  1.00000000e+00, -9.03939619e-17],\n",
       "       [-6.75195678e-17, -7.32602440e-17,  1.00000000e+00]])"
      ]
     },
     "execution_count": 19,
     "metadata": {},
     "output_type": "execute_result"
    }
   ],
   "source": [
    "np.dot(B,X)"
   ]
  },
  {
   "cell_type": "code",
   "execution_count": 20,
   "metadata": {},
   "outputs": [
    {
     "data": {
      "text/plain": [
       "array([[ 1.00000000e+00, -1.76844294e-16, -4.67934045e-17],\n",
       "       [ 4.77886006e-18,  1.00000000e+00,  1.37385810e-17],\n",
       "       [ 6.90011246e-17, -1.03533326e-17,  1.00000000e+00]])"
      ]
     },
     "execution_count": 20,
     "metadata": {},
     "output_type": "execute_result"
    }
   ],
   "source": [
    "np.dot(X,B)"
   ]
  },
  {
   "cell_type": "markdown",
   "metadata": {},
   "source": [
    "Exercise:  use the function rref_withpivot to compute the row reduced form of the matrix in the exercise 4.2.1  on page 178 of the book of Carl Meyer and find the  spanning sets for all the four fundamental subspaces"
   ]
  },
  {
   "cell_type": "code",
   "execution_count": 16,
   "metadata": {},
   "outputs": [
    {
     "name": "stdout",
     "output_type": "stream",
     "text": [
      "Ex. page 178 4.2.1, \n",
      " Matrix A= \n",
      "[[ 1.  2.  1.  1.  5.]\n",
      " [-2. -4.  0.  4. -2.]\n",
      " [ 1.  2.  2.  4.  9.]]\n",
      "\n",
      "\n",
      "\n",
      "ROW REDUCED form: \n",
      " Matrix A=\n",
      " (array([[ 1.,  2.,  0., -2.,  1.],\n",
      "       [ 0.,  0.,  1.,  3.,  4.],\n",
      "       [ 0.,  0.,  0.,  0.,  0.]]), array([[0., 1., 0.],\n",
      "       [0., 0., 1.],\n",
      "       [1., 0., 0.]]))\n"
     ]
    }
   ],
   "source": [
    "A_ex = np.array([  [1., 2., 1., 1., 5.], \n",
    "                [-2., -4., 0., 4., -2.], \n",
    "                [1., 2., 2., 4., 9.]]) \n",
    "\n",
    "print(\"Ex. page 178 4.2.1, \\n Matrix A= \\n{}\".format(A_ex))\n",
    "print(\"\\n\\n\")   \n",
    "\n",
    "U_solEx = rref_withpivot(A_ex)\n",
    "print(\"ROW REDUCED form: \\n Matrix A=\\n {}\".format(U_solEx))"
   ]
  },
  {
   "cell_type": "code",
   "execution_count": null,
   "metadata": {},
   "outputs": [],
   "source": []
  },
  {
   "cell_type": "code",
   "execution_count": null,
   "metadata": {},
   "outputs": [],
   "source": []
  }
 ],
 "metadata": {
  "anaconda-cloud": {},
  "interpreter": {
   "hash": "7473d73b0517ab6f64aa731f2cb80c0acf19c95420055020da77d830c23b4531"
  },
  "kernelspec": {
   "display_name": "Python 3.8.8 64-bit ('base': conda)",
   "name": "python3"
  },
  "language_info": {
   "codemirror_mode": {
    "name": "ipython",
    "version": 3
   },
   "file_extension": ".py",
   "mimetype": "text/x-python",
   "name": "python",
   "nbconvert_exporter": "python",
   "pygments_lexer": "ipython3",
   "version": "3.8.8"
  }
 },
 "nbformat": 4,
 "nbformat_minor": 4
}
