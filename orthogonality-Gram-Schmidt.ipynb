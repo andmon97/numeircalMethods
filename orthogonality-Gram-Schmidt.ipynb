{
 "cells": [
  {
   "cell_type": "markdown",
   "metadata": {},
   "source": [
    "# ORTHOGONALITY"
   ]
  },
  {
   "cell_type": "markdown",
   "metadata": {},
   "source": [
    "02/04/2020\n",
    "\n",
    "Francesca Mazzia\n",
    "\n",
    "license: Creative Commons non-commercial not derivative works - 2.5 Italy License http://creativecommons.org/licenses/by-nc-nd/2.5/it/"
   ]
  },
  {
   "cell_type": "markdown",
   "metadata": {},
   "source": [
    "###  Orthogonal  matrices"
   ]
  },
  {
   "cell_type": "code",
   "execution_count": null,
   "metadata": {},
   "outputs": [],
   "source": [
    "import scipy as sp\n",
    "import numpy as np\n",
    "import  scipy.stats as sst\n",
    "\n",
    "M = sst.ortho_group.rvs(dim=3)\n",
    "print('Orthogonal Random matrix: \\n',M)"
   ]
  },
  {
   "cell_type": "code",
   "execution_count": null,
   "metadata": {},
   "outputs": [],
   "source": [
    "print('dot product: \\n', np.dot(M,M.T))\n",
    "# M M^T = I identity matrix  M^T is the inverse of an orthogonal matrix (orthogonal matrix square matrix)"
   ]
  },
  {
   "cell_type": "code",
   "execution_count": null,
   "metadata": {},
   "outputs": [],
   "source": [
    "print('dot product: \\n', np.dot(M.T,M))\n",
    "# M^T M = I identity matrix"
   ]
  },
  {
   "cell_type": "code",
   "execution_count": null,
   "metadata": {},
   "outputs": [],
   "source": [
    "print('Determinant: \\n',sp.linalg.det(M)) # det = -1 or det = 1"
   ]
  },
  {
   "cell_type": "markdown",
   "metadata": {},
   "source": [
    "### Generic random matrix\n",
    "Uniform distribution "
   ]
  },
  {
   "cell_type": "code",
   "execution_count": null,
   "metadata": {},
   "outputs": [],
   "source": [
    "A= np.random.rand(5,3)\n",
    "print('Generic Random matrix: \\n',A)"
   ]
  },
  {
   "cell_type": "code",
   "execution_count": null,
   "metadata": {},
   "outputs": [],
   "source": [
    "rk=np.linalg.matrix_rank(A)\n",
    "print('Rank of A:', rk)"
   ]
  },
  {
   "cell_type": "markdown",
   "metadata": {},
   "source": [
    "the vectors are not orthogonal"
   ]
  },
  {
   "cell_type": "code",
   "execution_count": null,
   "metadata": {},
   "outputs": [],
   "source": [
    "print(np.dot(A.T,A)) # to check orthogonality of columns"
   ]
  },
  {
   "cell_type": "code",
   "execution_count": null,
   "metadata": {},
   "outputs": [],
   "source": [
    "print(np.dot(A,A.T))"
   ]
  },
  {
   "cell_type": "markdown",
   "metadata": {},
   "source": [
    "to orthogonalize it we use the Gram-Schmidt procedure on a set of linearly independent vectors columns of a matrix"
   ]
  },
  {
   "cell_type": "code",
   "execution_count": null,
   "metadata": {},
   "outputs": [],
   "source": [
    "def Gram_Schmidt(X):\n",
    "    (m,n) = X.shape\n",
    "    U = np.zeros((m,n))\n",
    "    R = np.zeros((n,n))\n",
    "    for i in range(n):\n",
    "        U[:,i] = X[:,i]\n",
    "        for j in range(i):\n",
    "            R[j,i] = np.dot(U[:,j], X[:,i])\n",
    "            U[:,i] = U[:,i] - R[j,i]*U[:,j]\n",
    "        R[i,i]= np.linalg.norm(U[:,i])   \n",
    "        U[:,i] = U[:,i]/R[i,i]\n",
    "    return (U,R)"
   ]
  },
  {
   "cell_type": "code",
   "execution_count": null,
   "metadata": {},
   "outputs": [],
   "source": [
    "import numpy as np\n",
    "A = np.array( [[1, 0, 0, 1 ],[0,0,1,-1],[4,0,1,3]])\n",
    "A=A.T\n",
    "A"
   ]
  },
  {
   "cell_type": "code",
   "execution_count": null,
   "metadata": {},
   "outputs": [],
   "source": [
    "(U,R) = Gram_Schmidt(A)\n",
    "print(U)\n",
    "print(R)\n",
    "2/np.sqrt(6)"
   ]
  },
  {
   "cell_type": "code",
   "execution_count": null,
   "metadata": {},
   "outputs": [],
   "source": [
    "print(np.dot(U.T,U))# the columns are an an orthonormale set"
   ]
  },
  {
   "cell_type": "code",
   "execution_count": null,
   "metadata": {},
   "outputs": [],
   "source": [
    "print(np.dot(U,U.T)) # we have not the identity because the rows are not an orthonormal set"
   ]
  },
  {
   "cell_type": "code",
   "execution_count": null,
   "metadata": {},
   "outputs": [],
   "source": [
    "B = np.random.rand(3,3)\n",
    "rk=np.linalg.matrix_rank(A)\n",
    "print('Rank of A:', rk)\n",
    "(UB,RB) = Gram_Schmidt(B)\n",
    "print('UB \\n',UB)\n",
    "print('RB \\n',RB)"
   ]
  },
  {
   "cell_type": "code",
   "execution_count": null,
   "metadata": {},
   "outputs": [],
   "source": [
    "print(np.dot(UB.T,UB))"
   ]
  },
  {
   "cell_type": "code",
   "execution_count": null,
   "metadata": {},
   "outputs": [],
   "source": [
    "print(np.dot(UB,UB.T))"
   ]
  },
  {
   "cell_type": "code",
   "execution_count": null,
   "metadata": {},
   "outputs": [],
   "source": [
    "print('B \\n',B)\n",
    "print('B-np.dot(UB,RB) \\n', B-np.dot(UB,RB))"
   ]
  },
  {
   "cell_type": "markdown",
   "metadata": {},
   "source": [
    "To generate an orthogonal basis we use the QR factorization"
   ]
  },
  {
   "cell_type": "code",
   "execution_count": null,
   "metadata": {},
   "outputs": [],
   "source": [
    "(Q,R)=np.linalg.qr(B)\n",
    "print('Q: \\n',Q)\n",
    "print('R: \\n',R)"
   ]
  },
  {
   "cell_type": "code",
   "execution_count": null,
   "metadata": {},
   "outputs": [],
   "source": [
    "print(RB)\n",
    "print(UB)"
   ]
  }
 ],
 "metadata": {
  "anaconda-cloud": {},
  "kernelspec": {
   "display_name": "Python 3 (ipykernel)",
   "language": "python",
   "name": "python3"
  },
  "language": "fsharp",
  "language_info": {
   "codemirror_mode": {
    "name": "ipython",
    "version": 3
   },
   "file_extension": ".py",
   "mimetype": "text/x-python",
   "name": "python",
   "nbconvert_exporter": "python",
   "pygments_lexer": "ipython3",
   "version": "3.9.7"
  }
 },
 "nbformat": 4,
 "nbformat_minor": 4
}
